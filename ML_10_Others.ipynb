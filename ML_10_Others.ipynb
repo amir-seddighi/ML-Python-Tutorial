{
  "nbformat": 4,
  "nbformat_minor": 0,
  "metadata": {
    "colab": {
      "provenance": []
    },
    "kernelspec": {
      "name": "python3",
      "display_name": "Python 3"
    }
  },
  "cells": [
    {
      "cell_type": "code",
      "metadata": {
        "id": "x-AvyLq3Ggyc"
      },
      "source": [
        "#Zipping the folder:FolderYouWantToZip \n",
        "!zip -r ./NewNameForZipFolder.zip ./FolderYouWantToZip/"
      ],
      "execution_count": null,
      "outputs": []
    },
    {
      "cell_type": "code",
      "metadata": {
        "id": "L1SQQeBKTLtE"
      },
      "source": [
        "#Mount your Google Drive to save files on it\n",
        "from google.colab import drive \n",
        "drive.mount('/content/gdrive') "
      ],
      "execution_count": null,
      "outputs": []
    },
    {
      "cell_type": "code",
      "metadata": {
        "id": "dUEMkdB-Y_4E"
      },
      "source": [
        "#Turn a df to csv file and zipping it\n",
        "\n",
        "zipFile = 'zipFile_name'  + '.zip' \n",
        "csvFile = 'csvFile_name' + '.csv' \n",
        "\n",
        "compression_opts = dict(method='zip', archive_name= csvFile)  \n",
        "df.to_csv(zipFile , index=True, compression=compression_opts)  \n",
        "\n",
        "#See example below:\n"
      ],
      "execution_count": null,
      "outputs": []
    },
    {
      "cell_type": "code",
      "source": [
        "import pandas as pd\n",
        "\n",
        "column_names = ['A','B','C','D']\n",
        "my_df = pd.DataFrame(columns = column_names)  #create an empty data frame\n",
        "my_df = my_df.append({'A': 1, 'B': 12.3, 'C': 'xyz', 'D':9}, ignore_index=True)\n",
        "my_df\n"
      ],
      "metadata": {
        "colab": {
          "base_uri": "https://localhost:8080/",
          "height": 81
        },
        "id": "Yjj9bP2_wJdD",
        "outputId": "a6bd0b6a-d789-4ba6-c46b-af254439d1f6"
      },
      "execution_count": 2,
      "outputs": [
        {
          "output_type": "execute_result",
          "data": {
            "text/plain": [
              "   A     B    C  D\n",
              "0  1  12.3  xyz  9"
            ],
            "text/html": [
              "\n",
              "  <div id=\"df-c7cfa011-24ad-4498-8fbf-c92dbf164654\">\n",
              "    <div class=\"colab-df-container\">\n",
              "      <div>\n",
              "<style scoped>\n",
              "    .dataframe tbody tr th:only-of-type {\n",
              "        vertical-align: middle;\n",
              "    }\n",
              "\n",
              "    .dataframe tbody tr th {\n",
              "        vertical-align: top;\n",
              "    }\n",
              "\n",
              "    .dataframe thead th {\n",
              "        text-align: right;\n",
              "    }\n",
              "</style>\n",
              "<table border=\"1\" class=\"dataframe\">\n",
              "  <thead>\n",
              "    <tr style=\"text-align: right;\">\n",
              "      <th></th>\n",
              "      <th>A</th>\n",
              "      <th>B</th>\n",
              "      <th>C</th>\n",
              "      <th>D</th>\n",
              "    </tr>\n",
              "  </thead>\n",
              "  <tbody>\n",
              "    <tr>\n",
              "      <th>0</th>\n",
              "      <td>1</td>\n",
              "      <td>12.3</td>\n",
              "      <td>xyz</td>\n",
              "      <td>9</td>\n",
              "    </tr>\n",
              "  </tbody>\n",
              "</table>\n",
              "</div>\n",
              "      <button class=\"colab-df-convert\" onclick=\"convertToInteractive('df-c7cfa011-24ad-4498-8fbf-c92dbf164654')\"\n",
              "              title=\"Convert this dataframe to an interactive table.\"\n",
              "              style=\"display:none;\">\n",
              "        \n",
              "  <svg xmlns=\"http://www.w3.org/2000/svg\" height=\"24px\"viewBox=\"0 0 24 24\"\n",
              "       width=\"24px\">\n",
              "    <path d=\"M0 0h24v24H0V0z\" fill=\"none\"/>\n",
              "    <path d=\"M18.56 5.44l.94 2.06.94-2.06 2.06-.94-2.06-.94-.94-2.06-.94 2.06-2.06.94zm-11 1L8.5 8.5l.94-2.06 2.06-.94-2.06-.94L8.5 2.5l-.94 2.06-2.06.94zm10 10l.94 2.06.94-2.06 2.06-.94-2.06-.94-.94-2.06-.94 2.06-2.06.94z\"/><path d=\"M17.41 7.96l-1.37-1.37c-.4-.4-.92-.59-1.43-.59-.52 0-1.04.2-1.43.59L10.3 9.45l-7.72 7.72c-.78.78-.78 2.05 0 2.83L4 21.41c.39.39.9.59 1.41.59.51 0 1.02-.2 1.41-.59l7.78-7.78 2.81-2.81c.8-.78.8-2.07 0-2.86zM5.41 20L4 18.59l7.72-7.72 1.47 1.35L5.41 20z\"/>\n",
              "  </svg>\n",
              "      </button>\n",
              "      \n",
              "  <style>\n",
              "    .colab-df-container {\n",
              "      display:flex;\n",
              "      flex-wrap:wrap;\n",
              "      gap: 12px;\n",
              "    }\n",
              "\n",
              "    .colab-df-convert {\n",
              "      background-color: #E8F0FE;\n",
              "      border: none;\n",
              "      border-radius: 50%;\n",
              "      cursor: pointer;\n",
              "      display: none;\n",
              "      fill: #1967D2;\n",
              "      height: 32px;\n",
              "      padding: 0 0 0 0;\n",
              "      width: 32px;\n",
              "    }\n",
              "\n",
              "    .colab-df-convert:hover {\n",
              "      background-color: #E2EBFA;\n",
              "      box-shadow: 0px 1px 2px rgba(60, 64, 67, 0.3), 0px 1px 3px 1px rgba(60, 64, 67, 0.15);\n",
              "      fill: #174EA6;\n",
              "    }\n",
              "\n",
              "    [theme=dark] .colab-df-convert {\n",
              "      background-color: #3B4455;\n",
              "      fill: #D2E3FC;\n",
              "    }\n",
              "\n",
              "    [theme=dark] .colab-df-convert:hover {\n",
              "      background-color: #434B5C;\n",
              "      box-shadow: 0px 1px 3px 1px rgba(0, 0, 0, 0.15);\n",
              "      filter: drop-shadow(0px 1px 2px rgba(0, 0, 0, 0.3));\n",
              "      fill: #FFFFFF;\n",
              "    }\n",
              "  </style>\n",
              "\n",
              "      <script>\n",
              "        const buttonEl =\n",
              "          document.querySelector('#df-c7cfa011-24ad-4498-8fbf-c92dbf164654 button.colab-df-convert');\n",
              "        buttonEl.style.display =\n",
              "          google.colab.kernel.accessAllowed ? 'block' : 'none';\n",
              "\n",
              "        async function convertToInteractive(key) {\n",
              "          const element = document.querySelector('#df-c7cfa011-24ad-4498-8fbf-c92dbf164654');\n",
              "          const dataTable =\n",
              "            await google.colab.kernel.invokeFunction('convertToInteractive',\n",
              "                                                     [key], {});\n",
              "          if (!dataTable) return;\n",
              "\n",
              "          const docLinkHtml = 'Like what you see? Visit the ' +\n",
              "            '<a target=\"_blank\" href=https://colab.research.google.com/notebooks/data_table.ipynb>data table notebook</a>'\n",
              "            + ' to learn more about interactive tables.';\n",
              "          element.innerHTML = '';\n",
              "          dataTable['output_type'] = 'display_data';\n",
              "          await google.colab.output.renderOutput(dataTable, element);\n",
              "          const docLink = document.createElement('div');\n",
              "          docLink.innerHTML = docLinkHtml;\n",
              "          element.appendChild(docLink);\n",
              "        }\n",
              "      </script>\n",
              "    </div>\n",
              "  </div>\n",
              "  "
            ]
          },
          "metadata": {},
          "execution_count": 2
        }
      ]
    },
    {
      "cell_type": "code",
      "source": [
        "import pandas as pd\n",
        "\n",
        "column_names = ['A','B','C','D']\n",
        "my_df = pd.DataFrame(columns = column_names)  #create an empty data frame\n",
        "my_df = my_df.append({'A': 1, 'B': 12.3, 'C': 'xyz', 'D':9}, ignore_index=True)\n",
        "\n",
        "\n",
        "zipFile = 'zipFile_name'  + '.zip' \n",
        "csvFile = 'csvFile_name' + '.csv' \n",
        "\n",
        "compression_opts = dict(method='zip', archive_name= csvFile)  \n",
        "my_df.to_csv(zipFile , index=True, compression=compression_opts)  \n"
      ],
      "metadata": {
        "id": "XwBvq0oTihPM"
      },
      "execution_count": null,
      "outputs": []
    },
    {
      "cell_type": "code",
      "metadata": {
        "id": "NtFIjGKVHM3-"
      },
      "source": [
        "import os\n",
        "\n",
        "#Create a new folder called Folder_name\n",
        "!mkdir Folder_name\n",
        "\n",
        "#Remove fils\n",
        "os.remove(file_name)\n",
        "\n",
        "#change directory\n",
        "os.chdir('/content')\n",
        "os.chdir('/content/Folder_name')\n",
        "\n",
        "#List all files in a folder\n",
        "os.chdir('/content/Folder_name')\n",
        "os.listdir()\n",
        "\n",
        "#Whether or not a file exists in a Folder\n",
        "os.chdir('/content/Folder_name')\n",
        "os.path.exists(file_name)"
      ],
      "execution_count": null,
      "outputs": []
    },
    {
      "cell_type": "code",
      "metadata": {
        "id": "i_Mv2t9rHOn2"
      },
      "source": [
        "import shutil\n",
        "\n",
        "#Remoev a folder with files in it\n",
        "shutil.rmtree(folder_name)\n",
        "#OR\n",
        "!rm -rf folder_name\n",
        "\n",
        "#Copy a file to another folder\n",
        "shutil.copy(file_name, folder_name)"
      ],
      "execution_count": null,
      "outputs": []
    },
    {
      "cell_type": "code",
      "metadata": {
        "id": "O6ZOTJT5HPDk"
      },
      "source": [
        "#Pause the code for 12 seconds\n",
        "import time\n",
        "time.sleep(12)"
      ],
      "execution_count": null,
      "outputs": []
    },
    {
      "cell_type": "code",
      "metadata": {
        "id": "EodaXp3vbsfu"
      },
      "source": [
        "#Converting a df which includes polygons into GeoDataFrame\n",
        "from geopandas import GeoDataFrame\n",
        "crs = {'init': 'epsg:4326'}\n",
        "\n",
        "Geo_df = GeoDataFrame(Geo_df, crs=crs,  geometry='geometry')  #Column 'geometry\" should be of type geometry not an object\n",
        "Geo_df.plot(color='yellow', edgecolor='black',figsize=(15, 10))\n",
        "Geo_df['geometry'].area       #Returns the area\n",
        "Geo_df['geometry'].centroid   #Returns the center point\n",
        "Geo_df['geometry'].bounds     #Returns 4 points as boundaries of the geometry: x_min, x_max, y_min, y_max \n",
        "\n",
        "Geo_df.to_file('Geo_df.shp', driver='ESRI Shapefile')"
      ],
      "execution_count": null,
      "outputs": []
    },
    {
      "cell_type": "code",
      "metadata": {
        "id": "R291IZrBLtQE",
        "colab": {
          "base_uri": "https://localhost:8080/",
          "height": 120
        },
        "outputId": "8939dacb-b326-4be1-c994-babc6b621fdf"
      },
      "source": [
        "#Creating points and then a polygon\n",
        "from shapely import geometry\n",
        "from shapely.geometry import box, MultiPolygon, Polygon, Point\n",
        "\n",
        "x1=0\n",
        "x2=1\n",
        "x3=0.5\n",
        "y1=0\n",
        "y2=0\n",
        "y3=2\n",
        "\n",
        "p1 = geometry.Point(x1 ,y1)\n",
        "p2 = geometry.Point(x2 ,y2)\n",
        "p3 = geometry.Point(x3 ,y3)\n",
        "\n",
        "pointList = [p1, p2, p3, p1]\n",
        "\n",
        "triangle = geometry.Polygon(pointList)\n",
        "triangle.bounds\n",
        "triangle.area\n",
        "triangle.centroid\n",
        "p1.distance(p2)     #Distance between 2 points\n",
        "triangle"
      ],
      "execution_count": null,
      "outputs": [
        {
          "output_type": "execute_result",
          "data": {
            "text/plain": [
              "<shapely.geometry.polygon.Polygon at 0x7f80c748bbe0>"
            ],
            "image/svg+xml": "<svg xmlns=\"http://www.w3.org/2000/svg\" xmlns:xlink=\"http://www.w3.org/1999/xlink\" width=\"100.0\" height=\"100.0\" viewBox=\"-0.08 -0.08 1.1600000000000001 2.16\" preserveAspectRatio=\"xMinYMin meet\"><g transform=\"matrix(1,0,0,-1,0,2.0)\"><path fill-rule=\"evenodd\" fill=\"#66cc99\" stroke=\"#555555\" stroke-width=\"0.0432\" opacity=\"0.6\" d=\"M 0.0,0.0 L 1.0,0.0 L 0.5,2.0 L 0.0,0.0 z\" /></g></svg>"
          },
          "metadata": {
            "tags": []
          },
          "execution_count": 14
        }
      ]
    },
    {
      "cell_type": "code",
      "metadata": {
        "id": "HAOvFw28OOoF"
      },
      "source": [],
      "execution_count": null,
      "outputs": []
    }
  ]
}