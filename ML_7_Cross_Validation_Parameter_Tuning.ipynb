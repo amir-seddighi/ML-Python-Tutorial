{
  "nbformat": 4,
  "nbformat_minor": 0,
  "metadata": {
    "colab": {
      "provenance": []
    },
    "kernelspec": {
      "name": "python3",
      "display_name": "Python 3"
    }
  },
  "cells": [
    {
      "cell_type": "code",
      "metadata": {
        "id": "C5eKg8K_kxdj"
      },
      "source": [
        "import pandas as pd\n",
        "import matplotlib.pyplot as plt\n",
        "import numpy as np"
      ],
      "execution_count": null,
      "outputs": []
    },
    {
      "cell_type": "code",
      "metadata": {
        "id": "xZ1H2JFrkz1Y",
        "outputId": "353d904b-88ef-4253-c09f-5744da6e22c1",
        "colab": {
          "resources": {
            "http://localhost:8080/nbextensions/google.colab/files.js": {
              "data": "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",
              "ok": true,
              "headers": [
                [
                  "content-type",
                  "application/javascript"
                ]
              ],
              "status": 200,
              "status_text": ""
            }
          },
          "base_uri": "https://localhost:8080/",
          "height": 75
        }
      },
      "source": [
        "from google.colab import files          #Upload hpt-small.csv from the main folder of the course \n",
        "uploaded = files.upload()"
      ],
      "execution_count": null,
      "outputs": [
        {
          "output_type": "display_data",
          "data": {
            "text/html": [
              "\n",
              "     <input type=\"file\" id=\"files-fb41d124-cf0d-4f4f-a7d4-382c1e2d5b10\" name=\"files[]\" multiple disabled />\n",
              "     <output id=\"result-fb41d124-cf0d-4f4f-a7d4-382c1e2d5b10\">\n",
              "      Upload widget is only available when the cell has been executed in the\n",
              "      current browser session. Please rerun this cell to enable.\n",
              "      </output>\n",
              "      <script src=\"/nbextensions/google.colab/files.js\"></script> "
            ],
            "text/plain": [
              "<IPython.core.display.HTML object>"
            ]
          },
          "metadata": {
            "tags": []
          }
        },
        {
          "output_type": "stream",
          "text": [
            "Saving hpt-small.csv to hpt-small.csv\n"
          ],
          "name": "stdout"
        }
      ]
    },
    {
      "cell_type": "code",
      "metadata": {
        "id": "fkPUyLjsk7XQ",
        "outputId": "7f0d1d8b-5cdd-4b76-ff05-9c910dd69df8",
        "colab": {
          "base_uri": "https://localhost:8080/",
          "height": 200
        }
      },
      "source": [
        "df = pd.read_csv('hpt-small.csv')\n",
        "df.head()"
      ],
      "execution_count": null,
      "outputs": [
        {
          "output_type": "execute_result",
          "data": {
            "text/html": [
              "<div>\n",
              "<style scoped>\n",
              "    .dataframe tbody tr th:only-of-type {\n",
              "        vertical-align: middle;\n",
              "    }\n",
              "\n",
              "    .dataframe tbody tr th {\n",
              "        vertical-align: top;\n",
              "    }\n",
              "\n",
              "    .dataframe thead th {\n",
              "        text-align: right;\n",
              "    }\n",
              "</style>\n",
              "<table border=\"1\" class=\"dataframe\">\n",
              "  <thead>\n",
              "    <tr style=\"text-align: right;\">\n",
              "      <th></th>\n",
              "      <th>age</th>\n",
              "      <th>wc</th>\n",
              "      <th>education</th>\n",
              "      <th>marital status</th>\n",
              "      <th>race</th>\n",
              "      <th>gender</th>\n",
              "      <th>hours per week</th>\n",
              "      <th>IncomeClass</th>\n",
              "    </tr>\n",
              "  </thead>\n",
              "  <tbody>\n",
              "    <tr>\n",
              "      <th>0</th>\n",
              "      <td>38</td>\n",
              "      <td>Private</td>\n",
              "      <td>HS-grad</td>\n",
              "      <td>Divorced</td>\n",
              "      <td>White</td>\n",
              "      <td>Male</td>\n",
              "      <td>40</td>\n",
              "      <td>&lt;=50K</td>\n",
              "    </tr>\n",
              "    <tr>\n",
              "      <th>1</th>\n",
              "      <td>28</td>\n",
              "      <td>Private</td>\n",
              "      <td>Bachelors</td>\n",
              "      <td>Married</td>\n",
              "      <td>Black</td>\n",
              "      <td>Female</td>\n",
              "      <td>40</td>\n",
              "      <td>&lt;=50K</td>\n",
              "    </tr>\n",
              "    <tr>\n",
              "      <th>2</th>\n",
              "      <td>37</td>\n",
              "      <td>Private</td>\n",
              "      <td>Masters</td>\n",
              "      <td>Married</td>\n",
              "      <td>White</td>\n",
              "      <td>Female</td>\n",
              "      <td>40</td>\n",
              "      <td>&lt;=50K</td>\n",
              "    </tr>\n",
              "    <tr>\n",
              "      <th>3</th>\n",
              "      <td>31</td>\n",
              "      <td>Private</td>\n",
              "      <td>Masters</td>\n",
              "      <td>Never-married</td>\n",
              "      <td>White</td>\n",
              "      <td>Female</td>\n",
              "      <td>50</td>\n",
              "      <td>&gt;50K</td>\n",
              "    </tr>\n",
              "    <tr>\n",
              "      <th>4</th>\n",
              "      <td>42</td>\n",
              "      <td>Private</td>\n",
              "      <td>Bachelors</td>\n",
              "      <td>Married</td>\n",
              "      <td>White</td>\n",
              "      <td>Male</td>\n",
              "      <td>40</td>\n",
              "      <td>&gt;50K</td>\n",
              "    </tr>\n",
              "  </tbody>\n",
              "</table>\n",
              "</div>"
            ],
            "text/plain": [
              "   age        wc   education  ...   gender hours per week IncomeClass\n",
              "0   38   Private     HS-grad  ...     Male             40       <=50K\n",
              "1   28   Private   Bachelors  ...   Female             40       <=50K\n",
              "2   37   Private     Masters  ...   Female             40       <=50K\n",
              "3   31   Private     Masters  ...   Female             50        >50K\n",
              "4   42   Private   Bachelors  ...     Male             40        >50K\n",
              "\n",
              "[5 rows x 8 columns]"
            ]
          },
          "metadata": {
            "tags": []
          },
          "execution_count": 3
        }
      ]
    },
    {
      "cell_type": "code",
      "metadata": {
        "id": "PpZer62gkjn9",
        "outputId": "bb2e43c2-f29c-487b-c0a5-8ffcca918818",
        "colab": {
          "base_uri": "https://localhost:8080/",
          "height": 272
        }
      },
      "source": [
        "#Turn categorical features into dummy variables\n",
        "df = pd.get_dummies(df, drop_first=True)\n",
        "df.head()"
      ],
      "execution_count": null,
      "outputs": [
        {
          "output_type": "execute_result",
          "data": {
            "text/html": [
              "<div>\n",
              "<style scoped>\n",
              "    .dataframe tbody tr th:only-of-type {\n",
              "        vertical-align: middle;\n",
              "    }\n",
              "\n",
              "    .dataframe tbody tr th {\n",
              "        vertical-align: top;\n",
              "    }\n",
              "\n",
              "    .dataframe thead th {\n",
              "        text-align: right;\n",
              "    }\n",
              "</style>\n",
              "<table border=\"1\" class=\"dataframe\">\n",
              "  <thead>\n",
              "    <tr style=\"text-align: right;\">\n",
              "      <th></th>\n",
              "      <th>age</th>\n",
              "      <th>hours per week</th>\n",
              "      <th>wc_ Local-gov</th>\n",
              "      <th>wc_ Private</th>\n",
              "      <th>education_ Doctorate</th>\n",
              "      <th>education_ HS-grad</th>\n",
              "      <th>education_ Masters</th>\n",
              "      <th>education_ Preschool</th>\n",
              "      <th>education_ Prof-school</th>\n",
              "      <th>education_ Some-college</th>\n",
              "      <th>marital status_ Never-married</th>\n",
              "      <th>marital status_ Widowed</th>\n",
              "      <th>marital status_Married</th>\n",
              "      <th>race_ Asian-Pac-Islander</th>\n",
              "      <th>race_ Black</th>\n",
              "      <th>race_ Other</th>\n",
              "      <th>race_ White</th>\n",
              "      <th>gender_ Male</th>\n",
              "      <th>IncomeClass_ &gt;50K</th>\n",
              "    </tr>\n",
              "  </thead>\n",
              "  <tbody>\n",
              "    <tr>\n",
              "      <th>0</th>\n",
              "      <td>38</td>\n",
              "      <td>40</td>\n",
              "      <td>0</td>\n",
              "      <td>1</td>\n",
              "      <td>0</td>\n",
              "      <td>1</td>\n",
              "      <td>0</td>\n",
              "      <td>0</td>\n",
              "      <td>0</td>\n",
              "      <td>0</td>\n",
              "      <td>0</td>\n",
              "      <td>0</td>\n",
              "      <td>0</td>\n",
              "      <td>0</td>\n",
              "      <td>0</td>\n",
              "      <td>0</td>\n",
              "      <td>1</td>\n",
              "      <td>1</td>\n",
              "      <td>0</td>\n",
              "    </tr>\n",
              "    <tr>\n",
              "      <th>1</th>\n",
              "      <td>28</td>\n",
              "      <td>40</td>\n",
              "      <td>0</td>\n",
              "      <td>1</td>\n",
              "      <td>0</td>\n",
              "      <td>0</td>\n",
              "      <td>0</td>\n",
              "      <td>0</td>\n",
              "      <td>0</td>\n",
              "      <td>0</td>\n",
              "      <td>0</td>\n",
              "      <td>0</td>\n",
              "      <td>1</td>\n",
              "      <td>0</td>\n",
              "      <td>1</td>\n",
              "      <td>0</td>\n",
              "      <td>0</td>\n",
              "      <td>0</td>\n",
              "      <td>0</td>\n",
              "    </tr>\n",
              "    <tr>\n",
              "      <th>2</th>\n",
              "      <td>37</td>\n",
              "      <td>40</td>\n",
              "      <td>0</td>\n",
              "      <td>1</td>\n",
              "      <td>0</td>\n",
              "      <td>0</td>\n",
              "      <td>1</td>\n",
              "      <td>0</td>\n",
              "      <td>0</td>\n",
              "      <td>0</td>\n",
              "      <td>0</td>\n",
              "      <td>0</td>\n",
              "      <td>1</td>\n",
              "      <td>0</td>\n",
              "      <td>0</td>\n",
              "      <td>0</td>\n",
              "      <td>1</td>\n",
              "      <td>0</td>\n",
              "      <td>0</td>\n",
              "    </tr>\n",
              "    <tr>\n",
              "      <th>3</th>\n",
              "      <td>31</td>\n",
              "      <td>50</td>\n",
              "      <td>0</td>\n",
              "      <td>1</td>\n",
              "      <td>0</td>\n",
              "      <td>0</td>\n",
              "      <td>1</td>\n",
              "      <td>0</td>\n",
              "      <td>0</td>\n",
              "      <td>0</td>\n",
              "      <td>1</td>\n",
              "      <td>0</td>\n",
              "      <td>0</td>\n",
              "      <td>0</td>\n",
              "      <td>0</td>\n",
              "      <td>0</td>\n",
              "      <td>1</td>\n",
              "      <td>0</td>\n",
              "      <td>1</td>\n",
              "    </tr>\n",
              "    <tr>\n",
              "      <th>4</th>\n",
              "      <td>42</td>\n",
              "      <td>40</td>\n",
              "      <td>0</td>\n",
              "      <td>1</td>\n",
              "      <td>0</td>\n",
              "      <td>0</td>\n",
              "      <td>0</td>\n",
              "      <td>0</td>\n",
              "      <td>0</td>\n",
              "      <td>0</td>\n",
              "      <td>0</td>\n",
              "      <td>0</td>\n",
              "      <td>1</td>\n",
              "      <td>0</td>\n",
              "      <td>0</td>\n",
              "      <td>0</td>\n",
              "      <td>1</td>\n",
              "      <td>1</td>\n",
              "      <td>1</td>\n",
              "    </tr>\n",
              "  </tbody>\n",
              "</table>\n",
              "</div>"
            ],
            "text/plain": [
              "   age  hours per week  ...  gender_ Male  IncomeClass_ >50K\n",
              "0   38              40  ...             1                  0\n",
              "1   28              40  ...             0                  0\n",
              "2   37              40  ...             0                  0\n",
              "3   31              50  ...             0                  1\n",
              "4   42              40  ...             1                  1\n",
              "\n",
              "[5 rows x 19 columns]"
            ]
          },
          "metadata": {
            "tags": []
          },
          "execution_count": 4
        }
      ]
    },
    {
      "cell_type": "code",
      "metadata": {
        "id": "0p0uctqPTm9g",
        "outputId": "3a850225-d075-413c-d7a3-9fb09d699a6c",
        "colab": {
          "base_uri": "https://localhost:8080/",
          "height": 34
        }
      },
      "source": [
        "df.shape"
      ],
      "execution_count": null,
      "outputs": [
        {
          "output_type": "execute_result",
          "data": {
            "text/plain": [
              "(500, 19)"
            ]
          },
          "metadata": {
            "tags": []
          },
          "execution_count": 5
        }
      ]
    },
    {
      "cell_type": "code",
      "metadata": {
        "id": "b2oHEyPSlVfe"
      },
      "source": [
        "#Specify X (independant variables) and Y(predicted variable or target variable)\n",
        "X = df.iloc[:, 0:-1]\n",
        "Y = df.iloc[:, -1]"
      ],
      "execution_count": null,
      "outputs": []
    },
    {
      "cell_type": "markdown",
      "metadata": {
        "id": "zjYvDTJJmlKl"
      },
      "source": [
        "#Models (Default)\n",
        "**These models are using their \"default\", i.e. \"Un-Tuned\" hyper-parameters**"
      ]
    },
    {
      "cell_type": "code",
      "metadata": {
        "id": "fPiQiH4FMlh1"
      },
      "source": [
        "from sklearn.linear_model import LogisticRegression\n",
        "lr = LogisticRegression(random_state=1234)"
      ],
      "execution_count": null,
      "outputs": []
    },
    {
      "cell_type": "code",
      "metadata": {
        "id": "YfdvZXMXld_0"
      },
      "source": [
        "from sklearn.tree import DecisionTreeClassifier\n",
        "dtc = DecisionTreeClassifier(random_state=1234)"
      ],
      "execution_count": null,
      "outputs": []
    },
    {
      "cell_type": "code",
      "metadata": {
        "id": "PyCO-W-Llpzi"
      },
      "source": [
        "from sklearn.ensemble import RandomForestClassifier\n",
        "rfc = RandomForestClassifier(random_state=1234)"
      ],
      "execution_count": null,
      "outputs": []
    },
    {
      "cell_type": "code",
      "metadata": {
        "id": "CTBBQ4SFmQAw"
      },
      "source": [
        "from sklearn.svm import SVC\n",
        "svc = SVC(gamma=0.5)"
      ],
      "execution_count": null,
      "outputs": []
    },
    {
      "cell_type": "markdown",
      "metadata": {
        "id": "GBJwazFMmybX"
      },
      "source": [
        "#Cross Validation\n",
        "\n",
        "**Let's run cross validation on all these 4 models with their \"default\" hyper-parameters**"
      ]
    },
    {
      "cell_type": "code",
      "metadata": {
        "id": "On3Y3RAimebi"
      },
      "source": [
        "from sklearn.model_selection import cross_validate"
      ],
      "execution_count": null,
      "outputs": []
    },
    {
      "cell_type": "code",
      "metadata": {
        "id": "qxzv6ZYhnKSn"
      },
      "source": [
        "#10-Fold Cross Validation for all 4 models\n",
        "CV_results_lr = cross_validate(lr, X, Y, cv=10, return_train_score=True)\n",
        "CV_results_dtc = cross_validate(dtc, X, Y, cv=10, return_train_score=True)\n",
        "CV_results_rfc = cross_validate(rfc, X, Y, cv=10, return_train_score=True)\n",
        "CV_results_svc = cross_validate(svc, X, Y, cv=10, return_train_score=True)"
      ],
      "execution_count": null,
      "outputs": []
    },
    {
      "cell_type": "code",
      "metadata": {
        "id": "gnZzt2zaqC-u",
        "outputId": "2258ed6f-4d4f-456a-af7c-89c2bdc02825",
        "colab": {
          "base_uri": "https://localhost:8080/",
          "height": 137
        }
      },
      "source": [
        "CV_results_dtc"
      ],
      "execution_count": null,
      "outputs": [
        {
          "output_type": "execute_result",
          "data": {
            "text/plain": [
              "{'fit_time': array([0.00342202, 0.0029304 , 0.00310588, 0.00337291, 0.00292993,\n",
              "        0.00290108, 0.00294948, 0.0031395 , 0.00291133, 0.00284243]),\n",
              " 'score_time': array([0.00105953, 0.00102401, 0.00104904, 0.00105238, 0.0009892 ,\n",
              "        0.001019  , 0.00105286, 0.00105977, 0.00100374, 0.00100851]),\n",
              " 'test_score': array([0.72, 0.82, 0.7 , 0.7 , 0.8 , 0.74, 0.8 , 0.72, 0.74, 0.76]),\n",
              " 'train_score': array([0.98444444, 0.98      , 0.98      , 0.98666667, 0.98444444,\n",
              "        0.98666667, 0.98666667, 0.98444444, 0.98444444, 0.98222222])}"
            ]
          },
          "metadata": {
            "tags": []
          },
          "execution_count": 13
        }
      ]
    },
    {
      "cell_type": "code",
      "metadata": {
        "id": "HQveZd-xpTub"
      },
      "source": [
        "#Find Average of results for test sets\n",
        "\n",
        "lr_test_average  = np.average(CV_results_lr['test_score'])\n",
        "dtc_test_average = np.average(CV_results_dtc['test_score'])\n",
        "rfc_test_average = np.average(CV_results_rfc['test_score'])\n",
        "svc_test_average = np.average(CV_results_svc['test_score'])"
      ],
      "execution_count": null,
      "outputs": []
    },
    {
      "cell_type": "code",
      "metadata": {
        "id": "OZrOYyzLoG1P"
      },
      "source": [
        "#Find Average of results for train sets\n",
        "\n",
        "lr_train_average  = np.average(CV_results_lr['train_score'])\n",
        "dtc_train_average = np.average(CV_results_dtc['train_score'])\n",
        "rfc_train_average = np.average(CV_results_rfc['train_score'])\n",
        "svc_train_average = np.average(CV_results_svc['train_score'])"
      ],
      "execution_count": null,
      "outputs": []
    },
    {
      "cell_type": "code",
      "metadata": {
        "id": "j9_Y_QltrNAj",
        "outputId": "901e1aa7-dc3f-449c-c2b2-90c7b7161869",
        "colab": {
          "base_uri": "https://localhost:8080/",
          "height": 361
        }
      },
      "source": [
        "print('Logostic Regression')\n",
        "print(lr_test_average)\n",
        "print(lr_train_average)\n",
        "print('\\n')\n",
        "\n",
        "print('Decision Tree Classifier')\n",
        "print(dtc_test_average)\n",
        "print(dtc_train_average)\n",
        "print('\\n')\n",
        "\n",
        "print('Random Forest Classifier')\n",
        "print(rfc_test_average)\n",
        "print(rfc_train_average)\n",
        "print('\\n')\n",
        "\n",
        "print('SVC')\n",
        "print(svc_test_average)\n",
        "print(svc_train_average)\n",
        "print('\\n')"
      ],
      "execution_count": null,
      "outputs": [
        {
          "output_type": "stream",
          "text": [
            "Logostic Regression\n",
            "0.8140000000000001\n",
            "0.8266666666666668\n",
            "\n",
            "\n",
            "Decision Tree Classifier\n",
            "0.75\n",
            "0.984\n",
            "\n",
            "\n",
            "Random Forest Classifier\n",
            "0.776\n",
            "0.9835555555555556\n",
            "\n",
            "\n",
            "SVC\n",
            "0.734\n",
            "0.9548888888888889\n",
            "\n",
            "\n"
          ],
          "name": "stdout"
        }
      ]
    },
    {
      "cell_type": "markdown",
      "metadata": {
        "id": "ZqwdxvjmrjvI"
      },
      "source": [
        "Comment:\n",
        "\n",
        "We can see that using default parameters for these 4 models, there is some extent of overfitting for all models except for lr. Also, we can see that all model's score except for lr is about 75%"
      ]
    },
    {
      "cell_type": "markdown",
      "metadata": {
        "id": "zerPASDtQ9jf"
      },
      "source": [
        "#Tuning Models' Parameters and Grid Search\n"
      ]
    },
    {
      "cell_type": "code",
      "metadata": {
        "id": "oG2U_aO8QmMo"
      },
      "source": [
        "from sklearn.model_selection import GridSearchCV\n",
        "from sklearn.model_selection import cross_validate"
      ],
      "execution_count": null,
      "outputs": []
    },
    {
      "cell_type": "markdown",
      "metadata": {
        "id": "bo9O9yzcWjZa"
      },
      "source": [
        "\n",
        "##Grid Search for rfc model"
      ]
    },
    {
      "cell_type": "code",
      "metadata": {
        "id": "xZsdilNeQ-Tg",
        "colab": {
          "base_uri": "https://localhost:8080/",
          "height": 1000
        },
        "outputId": "b8e5fb03-8404-4a2c-b910-d9e05757baa9"
      },
      "source": [
        "rfc_parameters = {'n_estimators':[10,15,20], \n",
        "                  'min_samples_split':[8,16],\n",
        "                  'min_samples_leaf':[2,3]}      #So this grid will have 3*2*2=12 combinations\n",
        "\n",
        "rfc_grid = GridSearchCV(estimator=rfc,\n",
        "                        param_grid= rfc_parameters,\n",
        "                        scoring='accuracy',\n",
        "                        cv=3,                     #So, 12*3=36 individual runs will be performed\n",
        "                        return_train_score= True)                  \n",
        "\n",
        "rfc_grid_fit = rfc_grid.fit(X,Y)\n",
        "\n",
        "CV_results_rfc = pd.DataFrame.from_dict( rfc_grid_fit.cv_results_)\n",
        "CV_results_rfc  \n",
        "                #12 rows from 0 to 11, each row for one combination of parameters\n",
        "                #disregards the columns showing \"time\"\n",
        "                #Important Columns:\n",
        "                #split0_test_score    split1_test_score    split2_test_score   mean_test_score    rank_test_score   rank_test_score\n",
        "                #split0_train_score   split1_train_score   split2_train_score  mean_train_score   rank_train_score\n",
        "    "
      ],
      "execution_count": null,
      "outputs": [
        {
          "output_type": "execute_result",
          "data": {
            "text/html": [
              "<div>\n",
              "<style scoped>\n",
              "    .dataframe tbody tr th:only-of-type {\n",
              "        vertical-align: middle;\n",
              "    }\n",
              "\n",
              "    .dataframe tbody tr th {\n",
              "        vertical-align: top;\n",
              "    }\n",
              "\n",
              "    .dataframe thead th {\n",
              "        text-align: right;\n",
              "    }\n",
              "</style>\n",
              "<table border=\"1\" class=\"dataframe\">\n",
              "  <thead>\n",
              "    <tr style=\"text-align: right;\">\n",
              "      <th></th>\n",
              "      <th>mean_fit_time</th>\n",
              "      <th>std_fit_time</th>\n",
              "      <th>mean_score_time</th>\n",
              "      <th>std_score_time</th>\n",
              "      <th>param_min_samples_leaf</th>\n",
              "      <th>param_min_samples_split</th>\n",
              "      <th>param_n_estimators</th>\n",
              "      <th>params</th>\n",
              "      <th>split0_test_score</th>\n",
              "      <th>split1_test_score</th>\n",
              "      <th>split2_test_score</th>\n",
              "      <th>mean_test_score</th>\n",
              "      <th>std_test_score</th>\n",
              "      <th>rank_test_score</th>\n",
              "      <th>split0_train_score</th>\n",
              "      <th>split1_train_score</th>\n",
              "      <th>split2_train_score</th>\n",
              "      <th>mean_train_score</th>\n",
              "      <th>std_train_score</th>\n",
              "    </tr>\n",
              "  </thead>\n",
              "  <tbody>\n",
              "    <tr>\n",
              "      <th>0</th>\n",
              "      <td>0.018937</td>\n",
              "      <td>0.001365</td>\n",
              "      <td>0.002873</td>\n",
              "      <td>0.000243</td>\n",
              "      <td>2</td>\n",
              "      <td>8</td>\n",
              "      <td>10</td>\n",
              "      <td>{'min_samples_leaf': 2, 'min_samples_split': 8...</td>\n",
              "      <td>0.754491</td>\n",
              "      <td>0.814371</td>\n",
              "      <td>0.795181</td>\n",
              "      <td>0.788014</td>\n",
              "      <td>0.024966</td>\n",
              "      <td>11</td>\n",
              "      <td>0.891892</td>\n",
              "      <td>0.864865</td>\n",
              "      <td>0.883234</td>\n",
              "      <td>0.879997</td>\n",
              "      <td>0.011269</td>\n",
              "    </tr>\n",
              "    <tr>\n",
              "      <th>1</th>\n",
              "      <td>0.024408</td>\n",
              "      <td>0.000915</td>\n",
              "      <td>0.002960</td>\n",
              "      <td>0.000112</td>\n",
              "      <td>2</td>\n",
              "      <td>8</td>\n",
              "      <td>15</td>\n",
              "      <td>{'min_samples_leaf': 2, 'min_samples_split': 8...</td>\n",
              "      <td>0.760479</td>\n",
              "      <td>0.820359</td>\n",
              "      <td>0.813253</td>\n",
              "      <td>0.798030</td>\n",
              "      <td>0.026711</td>\n",
              "      <td>7</td>\n",
              "      <td>0.891892</td>\n",
              "      <td>0.870871</td>\n",
              "      <td>0.892216</td>\n",
              "      <td>0.884993</td>\n",
              "      <td>0.009987</td>\n",
              "    </tr>\n",
              "    <tr>\n",
              "      <th>2</th>\n",
              "      <td>0.030449</td>\n",
              "      <td>0.000564</td>\n",
              "      <td>0.003320</td>\n",
              "      <td>0.000077</td>\n",
              "      <td>2</td>\n",
              "      <td>8</td>\n",
              "      <td>20</td>\n",
              "      <td>{'min_samples_leaf': 2, 'min_samples_split': 8...</td>\n",
              "      <td>0.760479</td>\n",
              "      <td>0.850299</td>\n",
              "      <td>0.801205</td>\n",
              "      <td>0.803994</td>\n",
              "      <td>0.036722</td>\n",
              "      <td>4</td>\n",
              "      <td>0.885886</td>\n",
              "      <td>0.879880</td>\n",
              "      <td>0.901198</td>\n",
              "      <td>0.888988</td>\n",
              "      <td>0.008975</td>\n",
              "    </tr>\n",
              "    <tr>\n",
              "      <th>3</th>\n",
              "      <td>0.016299</td>\n",
              "      <td>0.000223</td>\n",
              "      <td>0.002557</td>\n",
              "      <td>0.000155</td>\n",
              "      <td>2</td>\n",
              "      <td>16</td>\n",
              "      <td>10</td>\n",
              "      <td>{'min_samples_leaf': 2, 'min_samples_split': 1...</td>\n",
              "      <td>0.790419</td>\n",
              "      <td>0.808383</td>\n",
              "      <td>0.807229</td>\n",
              "      <td>0.802010</td>\n",
              "      <td>0.008210</td>\n",
              "      <td>5</td>\n",
              "      <td>0.873874</td>\n",
              "      <td>0.846847</td>\n",
              "      <td>0.835329</td>\n",
              "      <td>0.852017</td>\n",
              "      <td>0.016155</td>\n",
              "    </tr>\n",
              "    <tr>\n",
              "      <th>4</th>\n",
              "      <td>0.023685</td>\n",
              "      <td>0.000237</td>\n",
              "      <td>0.003098</td>\n",
              "      <td>0.000309</td>\n",
              "      <td>2</td>\n",
              "      <td>16</td>\n",
              "      <td>15</td>\n",
              "      <td>{'min_samples_leaf': 2, 'min_samples_split': 1...</td>\n",
              "      <td>0.760479</td>\n",
              "      <td>0.814371</td>\n",
              "      <td>0.801205</td>\n",
              "      <td>0.792018</td>\n",
              "      <td>0.022940</td>\n",
              "      <td>9</td>\n",
              "      <td>0.876877</td>\n",
              "      <td>0.837838</td>\n",
              "      <td>0.847305</td>\n",
              "      <td>0.854007</td>\n",
              "      <td>0.016627</td>\n",
              "    </tr>\n",
              "    <tr>\n",
              "      <th>5</th>\n",
              "      <td>0.030081</td>\n",
              "      <td>0.000436</td>\n",
              "      <td>0.003566</td>\n",
              "      <td>0.000088</td>\n",
              "      <td>2</td>\n",
              "      <td>16</td>\n",
              "      <td>20</td>\n",
              "      <td>{'min_samples_leaf': 2, 'min_samples_split': 1...</td>\n",
              "      <td>0.754491</td>\n",
              "      <td>0.808383</td>\n",
              "      <td>0.789157</td>\n",
              "      <td>0.784010</td>\n",
              "      <td>0.022300</td>\n",
              "      <td>12</td>\n",
              "      <td>0.858859</td>\n",
              "      <td>0.840841</td>\n",
              "      <td>0.856287</td>\n",
              "      <td>0.851996</td>\n",
              "      <td>0.007957</td>\n",
              "    </tr>\n",
              "    <tr>\n",
              "      <th>6</th>\n",
              "      <td>0.016353</td>\n",
              "      <td>0.000150</td>\n",
              "      <td>0.002575</td>\n",
              "      <td>0.000145</td>\n",
              "      <td>3</td>\n",
              "      <td>8</td>\n",
              "      <td>10</td>\n",
              "      <td>{'min_samples_leaf': 3, 'min_samples_split': 8...</td>\n",
              "      <td>0.778443</td>\n",
              "      <td>0.826347</td>\n",
              "      <td>0.825301</td>\n",
              "      <td>0.810031</td>\n",
              "      <td>0.022340</td>\n",
              "      <td>2</td>\n",
              "      <td>0.876877</td>\n",
              "      <td>0.864865</td>\n",
              "      <td>0.856287</td>\n",
              "      <td>0.866010</td>\n",
              "      <td>0.008445</td>\n",
              "    </tr>\n",
              "    <tr>\n",
              "      <th>7</th>\n",
              "      <td>0.022891</td>\n",
              "      <td>0.000286</td>\n",
              "      <td>0.002874</td>\n",
              "      <td>0.000133</td>\n",
              "      <td>3</td>\n",
              "      <td>8</td>\n",
              "      <td>15</td>\n",
              "      <td>{'min_samples_leaf': 3, 'min_samples_split': 8...</td>\n",
              "      <td>0.778443</td>\n",
              "      <td>0.814371</td>\n",
              "      <td>0.831325</td>\n",
              "      <td>0.808047</td>\n",
              "      <td>0.022047</td>\n",
              "      <td>3</td>\n",
              "      <td>0.879880</td>\n",
              "      <td>0.861862</td>\n",
              "      <td>0.853293</td>\n",
              "      <td>0.865012</td>\n",
              "      <td>0.011080</td>\n",
              "    </tr>\n",
              "    <tr>\n",
              "      <th>8</th>\n",
              "      <td>0.029833</td>\n",
              "      <td>0.000065</td>\n",
              "      <td>0.003223</td>\n",
              "      <td>0.000037</td>\n",
              "      <td>3</td>\n",
              "      <td>8</td>\n",
              "      <td>20</td>\n",
              "      <td>{'min_samples_leaf': 3, 'min_samples_split': 8...</td>\n",
              "      <td>0.802395</td>\n",
              "      <td>0.826347</td>\n",
              "      <td>0.825301</td>\n",
              "      <td>0.818015</td>\n",
              "      <td>0.011053</td>\n",
              "      <td>1</td>\n",
              "      <td>0.894895</td>\n",
              "      <td>0.873874</td>\n",
              "      <td>0.859281</td>\n",
              "      <td>0.876017</td>\n",
              "      <td>0.014618</td>\n",
              "    </tr>\n",
              "    <tr>\n",
              "      <th>9</th>\n",
              "      <td>0.016319</td>\n",
              "      <td>0.000292</td>\n",
              "      <td>0.002372</td>\n",
              "      <td>0.000138</td>\n",
              "      <td>3</td>\n",
              "      <td>16</td>\n",
              "      <td>10</td>\n",
              "      <td>{'min_samples_leaf': 3, 'min_samples_split': 1...</td>\n",
              "      <td>0.760479</td>\n",
              "      <td>0.802395</td>\n",
              "      <td>0.807229</td>\n",
              "      <td>0.790034</td>\n",
              "      <td>0.020992</td>\n",
              "      <td>10</td>\n",
              "      <td>0.849850</td>\n",
              "      <td>0.840841</td>\n",
              "      <td>0.823353</td>\n",
              "      <td>0.838015</td>\n",
              "      <td>0.011000</td>\n",
              "    </tr>\n",
              "    <tr>\n",
              "      <th>10</th>\n",
              "      <td>0.022614</td>\n",
              "      <td>0.000101</td>\n",
              "      <td>0.002957</td>\n",
              "      <td>0.000087</td>\n",
              "      <td>3</td>\n",
              "      <td>16</td>\n",
              "      <td>15</td>\n",
              "      <td>{'min_samples_leaf': 3, 'min_samples_split': 1...</td>\n",
              "      <td>0.766467</td>\n",
              "      <td>0.808383</td>\n",
              "      <td>0.807229</td>\n",
              "      <td>0.794026</td>\n",
              "      <td>0.019493</td>\n",
              "      <td>8</td>\n",
              "      <td>0.864865</td>\n",
              "      <td>0.825826</td>\n",
              "      <td>0.829341</td>\n",
              "      <td>0.840011</td>\n",
              "      <td>0.017633</td>\n",
              "    </tr>\n",
              "    <tr>\n",
              "      <th>11</th>\n",
              "      <td>0.029632</td>\n",
              "      <td>0.000314</td>\n",
              "      <td>0.003243</td>\n",
              "      <td>0.000081</td>\n",
              "      <td>3</td>\n",
              "      <td>16</td>\n",
              "      <td>20</td>\n",
              "      <td>{'min_samples_leaf': 3, 'min_samples_split': 1...</td>\n",
              "      <td>0.772455</td>\n",
              "      <td>0.796407</td>\n",
              "      <td>0.831325</td>\n",
              "      <td>0.800063</td>\n",
              "      <td>0.024172</td>\n",
              "      <td>6</td>\n",
              "      <td>0.864865</td>\n",
              "      <td>0.834835</td>\n",
              "      <td>0.832335</td>\n",
              "      <td>0.844012</td>\n",
              "      <td>0.014781</td>\n",
              "    </tr>\n",
              "  </tbody>\n",
              "</table>\n",
              "</div>"
            ],
            "text/plain": [
              "    mean_fit_time  std_fit_time  ...  mean_train_score  std_train_score\n",
              "0        0.018937      0.001365  ...          0.879997         0.011269\n",
              "1        0.024408      0.000915  ...          0.884993         0.009987\n",
              "2        0.030449      0.000564  ...          0.888988         0.008975\n",
              "3        0.016299      0.000223  ...          0.852017         0.016155\n",
              "4        0.023685      0.000237  ...          0.854007         0.016627\n",
              "5        0.030081      0.000436  ...          0.851996         0.007957\n",
              "6        0.016353      0.000150  ...          0.866010         0.008445\n",
              "7        0.022891      0.000286  ...          0.865012         0.011080\n",
              "8        0.029833      0.000065  ...          0.876017         0.014618\n",
              "9        0.016319      0.000292  ...          0.838015         0.011000\n",
              "10       0.022614      0.000101  ...          0.840011         0.017633\n",
              "11       0.029632      0.000314  ...          0.844012         0.014781\n",
              "\n",
              "[12 rows x 19 columns]"
            ]
          },
          "metadata": {
            "tags": []
          },
          "execution_count": 18
        }
      ]
    },
    {
      "cell_type": "code",
      "metadata": {
        "id": "c5ZOXnTgyBgM",
        "colab": {
          "base_uri": "https://localhost:8080/",
          "height": 150
        },
        "outputId": "f608a6bd-bf82-4c8e-a487-aafe0e7581ff"
      },
      "source": [
        "                \n",
        "CV_results_rfc[CV_results_rfc['rank_test_score']==1]      #find the best(i.e. rank==1) combination of parameters  "
      ],
      "execution_count": null,
      "outputs": [
        {
          "output_type": "execute_result",
          "data": {
            "text/html": [
              "<div>\n",
              "<style scoped>\n",
              "    .dataframe tbody tr th:only-of-type {\n",
              "        vertical-align: middle;\n",
              "    }\n",
              "\n",
              "    .dataframe tbody tr th {\n",
              "        vertical-align: top;\n",
              "    }\n",
              "\n",
              "    .dataframe thead th {\n",
              "        text-align: right;\n",
              "    }\n",
              "</style>\n",
              "<table border=\"1\" class=\"dataframe\">\n",
              "  <thead>\n",
              "    <tr style=\"text-align: right;\">\n",
              "      <th></th>\n",
              "      <th>mean_fit_time</th>\n",
              "      <th>std_fit_time</th>\n",
              "      <th>mean_score_time</th>\n",
              "      <th>std_score_time</th>\n",
              "      <th>param_min_samples_leaf</th>\n",
              "      <th>param_min_samples_split</th>\n",
              "      <th>param_n_estimators</th>\n",
              "      <th>params</th>\n",
              "      <th>split0_test_score</th>\n",
              "      <th>split1_test_score</th>\n",
              "      <th>split2_test_score</th>\n",
              "      <th>mean_test_score</th>\n",
              "      <th>std_test_score</th>\n",
              "      <th>rank_test_score</th>\n",
              "      <th>split0_train_score</th>\n",
              "      <th>split1_train_score</th>\n",
              "      <th>split2_train_score</th>\n",
              "      <th>mean_train_score</th>\n",
              "      <th>std_train_score</th>\n",
              "    </tr>\n",
              "  </thead>\n",
              "  <tbody>\n",
              "    <tr>\n",
              "      <th>8</th>\n",
              "      <td>0.029833</td>\n",
              "      <td>0.000065</td>\n",
              "      <td>0.003223</td>\n",
              "      <td>0.000037</td>\n",
              "      <td>3</td>\n",
              "      <td>8</td>\n",
              "      <td>20</td>\n",
              "      <td>{'min_samples_leaf': 3, 'min_samples_split': 8...</td>\n",
              "      <td>0.802395</td>\n",
              "      <td>0.826347</td>\n",
              "      <td>0.825301</td>\n",
              "      <td>0.818015</td>\n",
              "      <td>0.011053</td>\n",
              "      <td>1</td>\n",
              "      <td>0.894895</td>\n",
              "      <td>0.873874</td>\n",
              "      <td>0.859281</td>\n",
              "      <td>0.876017</td>\n",
              "      <td>0.014618</td>\n",
              "    </tr>\n",
              "  </tbody>\n",
              "</table>\n",
              "</div>"
            ],
            "text/plain": [
              "   mean_fit_time  std_fit_time  ...  mean_train_score  std_train_score\n",
              "8       0.029833      0.000065  ...          0.876017         0.014618\n",
              "\n",
              "[1 rows x 19 columns]"
            ]
          },
          "metadata": {
            "tags": []
          },
          "execution_count": 19
        }
      ]
    },
    {
      "cell_type": "code",
      "metadata": {
        "id": "dAuk79MRy293",
        "outputId": "4fe5f043-03c4-48f7-ad39-4e4b6ce02352",
        "colab": {
          "base_uri": "https://localhost:8080/",
          "height": 34
        }
      },
      "source": [
        "#To directly get the best parameters:\n",
        "rfc_grid_fit.best_params_  "
      ],
      "execution_count": null,
      "outputs": [
        {
          "output_type": "execute_result",
          "data": {
            "text/plain": [
              "{'min_samples_leaf': 3, 'min_samples_split': 8, 'n_estimators': 20}"
            ]
          },
          "metadata": {
            "tags": []
          },
          "execution_count": 135
        }
      ]
    },
    {
      "cell_type": "markdown",
      "metadata": {
        "id": "K1TRSS2iljCD"
      },
      "source": [
        "##Tuning and Grid Search for lr model"
      ]
    },
    {
      "cell_type": "code",
      "metadata": {
        "id": "gwIwpuqLliUr"
      },
      "source": [
        "lr_parameters = {'C':[0.01, 0.1, 0.5, 1, 2, 5, 10],         #C is 1/lamda in Lasso. So, smaller C: bigger lambda: less overfitting\n",
        "                  'penalty':['l2'],                         #Lasso Regularization\n",
        "                  'solver':['liblinear', 'lbfgs', 'saga']}  #So this grid will have 7*1*3=21 combinations\n",
        "\n",
        "lr_grid = GridSearchCV(estimator=lr,\n",
        "                        param_grid= lr_parameters,\n",
        "                        scoring='accuracy',\n",
        "                        cv=3,                     #So, 21*3=63 individual runs will be performed\n",
        "                        return_train_score= True)                  \n",
        "\n",
        "lr_grid_fit = lr_grid.fit(X,Y)\n",
        "\n",
        "CV_results_lr = pd.DataFrame.from_dict( lr_grid_fit.cv_results_)\n",
        "#CV_results_lr  \n",
        "                #21 rows from 0 to 20, each row for one combination of parameters\n",
        "                #disregards the columns showing \"time\"\n",
        "                #Important Columns:\n",
        "                #split0_test_score    split1_test_score    split2_test_score   mean_test_score    rank_test_score   rank_test_score\n",
        "                #split0_train_score   split1_train_score   split2_train_score  mean_train_score   rank_train_score"
      ],
      "execution_count": null,
      "outputs": []
    },
    {
      "cell_type": "code",
      "metadata": {
        "id": "DSUcWrVKp_ti",
        "outputId": "8b5b2c46-9afb-463f-b03b-821afc6788a3",
        "colab": {
          "base_uri": "https://localhost:8080/",
          "height": 167
        }
      },
      "source": [
        "CV_results_lr[CV_results_lr['rank_test_score']==1]      #find the best(i.e. rank==1) combination of parameters "
      ],
      "execution_count": null,
      "outputs": [
        {
          "output_type": "execute_result",
          "data": {
            "text/html": [
              "<div>\n",
              "<style scoped>\n",
              "    .dataframe tbody tr th:only-of-type {\n",
              "        vertical-align: middle;\n",
              "    }\n",
              "\n",
              "    .dataframe tbody tr th {\n",
              "        vertical-align: top;\n",
              "    }\n",
              "\n",
              "    .dataframe thead th {\n",
              "        text-align: right;\n",
              "    }\n",
              "</style>\n",
              "<table border=\"1\" class=\"dataframe\">\n",
              "  <thead>\n",
              "    <tr style=\"text-align: right;\">\n",
              "      <th></th>\n",
              "      <th>mean_fit_time</th>\n",
              "      <th>std_fit_time</th>\n",
              "      <th>mean_score_time</th>\n",
              "      <th>std_score_time</th>\n",
              "      <th>param_C</th>\n",
              "      <th>param_penalty</th>\n",
              "      <th>param_solver</th>\n",
              "      <th>params</th>\n",
              "      <th>split0_test_score</th>\n",
              "      <th>split1_test_score</th>\n",
              "      <th>split2_test_score</th>\n",
              "      <th>mean_test_score</th>\n",
              "      <th>std_test_score</th>\n",
              "      <th>rank_test_score</th>\n",
              "      <th>split0_train_score</th>\n",
              "      <th>split1_train_score</th>\n",
              "      <th>split2_train_score</th>\n",
              "      <th>mean_train_score</th>\n",
              "      <th>std_train_score</th>\n",
              "    </tr>\n",
              "  </thead>\n",
              "  <tbody>\n",
              "    <tr>\n",
              "      <th>13</th>\n",
              "      <td>0.027045</td>\n",
              "      <td>0.001763</td>\n",
              "      <td>0.001874</td>\n",
              "      <td>0.000042</td>\n",
              "      <td>2</td>\n",
              "      <td>l2</td>\n",
              "      <td>lbfgs</td>\n",
              "      <td>{'C': 2, 'penalty': 'l2', 'solver': 'lbfgs'}</td>\n",
              "      <td>0.808383</td>\n",
              "      <td>0.814371</td>\n",
              "      <td>0.861446</td>\n",
              "      <td>0.828067</td>\n",
              "      <td>0.023729</td>\n",
              "      <td>1</td>\n",
              "      <td>0.840841</td>\n",
              "      <td>0.825826</td>\n",
              "      <td>0.817365</td>\n",
              "      <td>0.828011</td>\n",
              "      <td>0.009708</td>\n",
              "    </tr>\n",
              "  </tbody>\n",
              "</table>\n",
              "</div>"
            ],
            "text/plain": [
              "    mean_fit_time  std_fit_time  ...  mean_train_score  std_train_score\n",
              "13       0.027045      0.001763  ...          0.828011         0.009708\n",
              "\n",
              "[1 rows x 19 columns]"
            ]
          },
          "metadata": {
            "tags": []
          },
          "execution_count": 116
        }
      ]
    },
    {
      "cell_type": "code",
      "metadata": {
        "id": "SKRwALfJy9yK",
        "outputId": "85d263ea-579e-41d4-e3a1-c4c632065576",
        "colab": {
          "base_uri": "https://localhost:8080/",
          "height": 34
        }
      },
      "source": [
        "#To directly get the best parameters:\n",
        "lr_grid_fit.best_params_  "
      ],
      "execution_count": null,
      "outputs": [
        {
          "output_type": "execute_result",
          "data": {
            "text/plain": [
              "{'C': 2, 'penalty': 'l2', 'solver': 'lbfgs'}"
            ]
          },
          "metadata": {
            "tags": []
          },
          "execution_count": 136
        }
      ]
    },
    {
      "cell_type": "markdown",
      "metadata": {
        "id": "P76uFA_6sfoQ"
      },
      "source": [
        "##Tuning and Grid Search for SVC model"
      ]
    },
    {
      "cell_type": "code",
      "metadata": {
        "id": "MbBll2j8sfzi"
      },
      "source": [
        "svc_parameters = {'C':[0.01, 0.1, 0.5, 1, 2, 5, 10],    #C is 1/lamda in Lasso. So, smaller C: bigger lambda: less overfitting\n",
        "                  'kernel':['rbf', 'linear'],\n",
        "                  'gamma':[0.1, 0.25, 0.5, 1, 5]}       #So this grid will have 7*2*5=70 combinations\n",
        "\n",
        "svc_grid = GridSearchCV(estimator=svc,\n",
        "                        param_grid= svc_parameters,\n",
        "                        scoring='accuracy',\n",
        "                        cv=3,                     #So, 70*3=210 individual runs will be performed\n",
        "                        return_train_score= True)                  \n",
        "\n",
        "svc_grid_fit = svc_grid.fit(X,Y)\n",
        "\n",
        "CV_results_svc = pd.DataFrame.from_dict( svc_grid_fit.cv_results_)\n",
        "#CV_results_svc  \n",
        "                #210 rows from 0 to 209, each row for one combination of parameters\n",
        "                #disregards the columns showing \"time\"\n",
        "                #Important Columns:\n",
        "                #split0_test_score    split1_test_score    split2_test_score   mean_test_score    rank_test_score   rank_test_score\n",
        "                #split0_train_score   split1_train_score   split2_train_score  mean_train_score   rank_train_score\n",
        "\n",
        "#CV_results_svc[CV_results_svc['rank_test_score']==1]      #find the best(i.e. rank==1) combination of parameters"
      ],
      "execution_count": null,
      "outputs": []
    },
    {
      "cell_type": "code",
      "metadata": {
        "id": "6UtlQLNPzEQg",
        "outputId": "20bb1b2f-429f-44b3-db40-a84c3cbd93c6",
        "colab": {
          "base_uri": "https://localhost:8080/",
          "height": 34
        }
      },
      "source": [
        "#To directly get the best parameters:\n",
        "svc_grid_fit.best_params_  "
      ],
      "execution_count": null,
      "outputs": [
        {
          "output_type": "execute_result",
          "data": {
            "text/plain": [
              "{'C': 10, 'gamma': 0.1, 'kernel': 'linear'}"
            ]
          },
          "metadata": {
            "tags": []
          },
          "execution_count": 137
        }
      ]
    },
    {
      "cell_type": "markdown",
      "metadata": {
        "id": "QDY5wK8uutel"
      },
      "source": [
        "##Comparison of Models"
      ]
    },
    {
      "cell_type": "code",
      "metadata": {
        "id": "CcVneYuhugEa",
        "outputId": "10a7651c-28d7-4673-dd8d-1a059178d703",
        "colab": {
          "base_uri": "https://localhost:8080/",
          "height": 395
        }
      },
      "source": [
        "lr_mean_test_score = CV_results_lr[ CV_results_lr['rank_test_score']==1 ]['mean_test_score'] \n",
        "lr_mean_train_score = CV_results_lr[ CV_results_lr['rank_test_score']==1 ]['mean_train_score'] \n",
        "\n",
        "rfc_mean_test_score = CV_results_rfc[CV_results_rfc['rank_test_score']==1]['mean_test_score']\n",
        "rfc_mean_train_score = CV_results_rfc[CV_results_rfc['rank_test_score']==1]['mean_train_score']\n",
        "\n",
        "svc_mean_test_score = CV_results_svc[CV_results_svc['rank_test_score']==1]['mean_test_score'] \n",
        "svc_mean_train_score = CV_results_svc[CV_results_svc['rank_test_score']==1]['mean_train_score'] \n",
        "\n",
        "print('lr_mean_test_score:',lr_mean_test_score)\n",
        "print('lr_mean_train_score:',lr_mean_train_score,'\\n')\n",
        "\n",
        "print('rfc_mean_test_score:',rfc_mean_test_score)\n",
        "print('rfc_mean_train_score:',rfc_mean_train_score,'\\n')\n",
        "\n",
        "print('svc_mean_test_score:',svc_mean_test_score)\n",
        "print('svc_mean_train_score:',svc_mean_train_score)"
      ],
      "execution_count": null,
      "outputs": [
        {
          "output_type": "stream",
          "text": [
            "lr_mean_test_score: 13    0.828067\n",
            "Name: mean_test_score, dtype: float64\n",
            "lr_mean_train_score: 13    0.828011\n",
            "Name: mean_train_score, dtype: float64 \n",
            "\n",
            "rfc_mean_test_score: 8    0.818015\n",
            "Name: mean_test_score, dtype: float64\n",
            "rfc_mean_train_score: 8    0.876017\n",
            "Name: mean_train_score, dtype: float64 \n",
            "\n",
            "svc_mean_test_score: 61    0.828019\n",
            "63    0.828019\n",
            "65    0.828019\n",
            "67    0.828019\n",
            "69    0.828019\n",
            "Name: mean_test_score, dtype: float64\n",
            "svc_mean_train_score: 61    0.834005\n",
            "63    0.834005\n",
            "65    0.834005\n",
            "67    0.834005\n",
            "69    0.834005\n",
            "Name: mean_train_score, dtype: float64\n"
          ],
          "name": "stdout"
        }
      ]
    },
    {
      "cell_type": "markdown",
      "metadata": {
        "id": "QzvEVrJA6yqw"
      },
      "source": [
        "Comments:\n",
        "\n",
        "Now, we can see that tuning models parameters and performing a grid search has significantly improve the overfitting issue. Also, the average test score is now almost 82% whearas 75% in teh case of default models' parameters"
      ]
    },
    {
      "cell_type": "markdown",
      "metadata": {
        "id": "YCj_UMq96soA"
      },
      "source": [
        "#Tuning Models' Parameters and Random Search\n",
        "Random search (as opposed to grid search) searches random combinations only and thus, saves a lot of time. The results will still be close to the Grid Search results"
      ]
    },
    {
      "cell_type": "code",
      "metadata": {
        "id": "TtBgENat7llO"
      },
      "source": [
        "from sklearn.model_selection import RandomizedSearchCV\n",
        "from sklearn.model_selection import cross_validate"
      ],
      "execution_count": null,
      "outputs": []
    },
    {
      "cell_type": "markdown",
      "metadata": {
        "id": "DIiY3Iqd7vdH"
      },
      "source": [
        "##Tuning and Grid Search for rfc model"
      ]
    },
    {
      "cell_type": "code",
      "metadata": {
        "id": "Vlp9hQkQ7tEF",
        "outputId": "3d47701f-def6-401f-bdff-e823e3364be1",
        "colab": {
          "base_uri": "https://localhost:8080/",
          "height": 133
        }
      },
      "source": [
        "rfc_parameters = {'n_estimators':[10,15,20], \n",
        "                  'min_samples_split':[8,16,20],\n",
        "                  'min_samples_leaf':[1,2,3,4,5,6]}      # So this grid will have 3*3*6=54 combinations\n",
        "\n",
        "rfc_RandomSearch = RandomizedSearchCV(estimator=rfc,\n",
        "                        param_distributions= rfc_parameters,\n",
        "                        scoring='accuracy',\n",
        "                        n_iter=10,                # How many different combinations do you want out of 54?\n",
        "                        cv=3,                     # So, 10*3=30 individual runs will be performed\n",
        "                        return_train_score= True,\n",
        "                        random_state=1234)                  \n",
        "\n",
        "rfc_RandomSearch_fit = rfc_RandomSearch.fit(X,Y)\n",
        "\n",
        "CV_results_rfc_RandomSearch = pd.DataFrame.from_dict( rfc_RandomSearch_fit.cv_results_)\n",
        "#CV_results_rfc_RandomSearch  \n",
        "                #10 rows from 0 to 9, each row for one combination of parameters\n",
        "                #disregards the columns showing \"time\"\n",
        "                #Important Columns:\n",
        "                #split0_test_score    split1_test_score    split2_test_score   mean_test_score    rank_test_score   rank_test_score\n",
        "                #split0_train_score   split1_train_score   split2_train_score  mean_train_score   rank_train_score\n",
        "                \n",
        "CV_results_rfc_RandomSearch[CV_results_rfc_RandomSearch['rank_test_score']==1]      #find the best(i.e. rank==1) combination of parameters      "
      ],
      "execution_count": null,
      "outputs": [
        {
          "output_type": "execute_result",
          "data": {
            "text/html": [
              "<div>\n",
              "<style scoped>\n",
              "    .dataframe tbody tr th:only-of-type {\n",
              "        vertical-align: middle;\n",
              "    }\n",
              "\n",
              "    .dataframe tbody tr th {\n",
              "        vertical-align: top;\n",
              "    }\n",
              "\n",
              "    .dataframe thead th {\n",
              "        text-align: right;\n",
              "    }\n",
              "</style>\n",
              "<table border=\"1\" class=\"dataframe\">\n",
              "  <thead>\n",
              "    <tr style=\"text-align: right;\">\n",
              "      <th></th>\n",
              "      <th>mean_fit_time</th>\n",
              "      <th>std_fit_time</th>\n",
              "      <th>mean_score_time</th>\n",
              "      <th>std_score_time</th>\n",
              "      <th>param_n_estimators</th>\n",
              "      <th>param_min_samples_split</th>\n",
              "      <th>param_min_samples_leaf</th>\n",
              "      <th>params</th>\n",
              "      <th>split0_test_score</th>\n",
              "      <th>split1_test_score</th>\n",
              "      <th>split2_test_score</th>\n",
              "      <th>mean_test_score</th>\n",
              "      <th>std_test_score</th>\n",
              "      <th>rank_test_score</th>\n",
              "      <th>split0_train_score</th>\n",
              "      <th>split1_train_score</th>\n",
              "      <th>split2_train_score</th>\n",
              "      <th>mean_train_score</th>\n",
              "      <th>std_train_score</th>\n",
              "    </tr>\n",
              "  </thead>\n",
              "  <tbody>\n",
              "    <tr>\n",
              "      <th>4</th>\n",
              "      <td>0.030864</td>\n",
              "      <td>0.001126</td>\n",
              "      <td>0.003327</td>\n",
              "      <td>0.000165</td>\n",
              "      <td>20</td>\n",
              "      <td>8</td>\n",
              "      <td>4</td>\n",
              "      <td>{'n_estimators': 20, 'min_samples_split': 8, '...</td>\n",
              "      <td>0.790419</td>\n",
              "      <td>0.844311</td>\n",
              "      <td>0.825301</td>\n",
              "      <td>0.820011</td>\n",
              "      <td>0.022317</td>\n",
              "      <td>1</td>\n",
              "      <td>0.861862</td>\n",
              "      <td>0.855856</td>\n",
              "      <td>0.847305</td>\n",
              "      <td>0.855008</td>\n",
              "      <td>0.005973</td>\n",
              "    </tr>\n",
              "  </tbody>\n",
              "</table>\n",
              "</div>"
            ],
            "text/plain": [
              "   mean_fit_time  std_fit_time  ...  mean_train_score  std_train_score\n",
              "4       0.030864      0.001126  ...          0.855008         0.005973\n",
              "\n",
              "[1 rows x 19 columns]"
            ]
          },
          "metadata": {
            "tags": []
          },
          "execution_count": 148
        }
      ]
    },
    {
      "cell_type": "code",
      "metadata": {
        "id": "SXGrCgjB-tXw",
        "outputId": "93039737-eea9-4a12-f569-94c99d309eb0",
        "colab": {
          "base_uri": "https://localhost:8080/",
          "height": 34
        }
      },
      "source": [
        "#To directly get the best parameters:\n",
        "rfc_RandomSearch_fit.best_params_  "
      ],
      "execution_count": null,
      "outputs": [
        {
          "output_type": "execute_result",
          "data": {
            "text/plain": [
              "{'min_samples_leaf': 4, 'min_samples_split': 8, 'n_estimators': 20}"
            ]
          },
          "metadata": {
            "tags": []
          },
          "execution_count": 150
        }
      ]
    },
    {
      "cell_type": "code",
      "metadata": {
        "id": "rekNHGly-K86",
        "outputId": "5cf58516-0287-45f2-ce30-25a100b1a20b",
        "colab": {
          "base_uri": "https://localhost:8080/",
          "height": 716
        }
      },
      "source": [
        "CV_results_rfc_RandomSearch  #Note that it only has 10 random rows (combination)out of 54 possible combinations"
      ],
      "execution_count": null,
      "outputs": [
        {
          "output_type": "execute_result",
          "data": {
            "text/html": [
              "<div>\n",
              "<style scoped>\n",
              "    .dataframe tbody tr th:only-of-type {\n",
              "        vertical-align: middle;\n",
              "    }\n",
              "\n",
              "    .dataframe tbody tr th {\n",
              "        vertical-align: top;\n",
              "    }\n",
              "\n",
              "    .dataframe thead th {\n",
              "        text-align: right;\n",
              "    }\n",
              "</style>\n",
              "<table border=\"1\" class=\"dataframe\">\n",
              "  <thead>\n",
              "    <tr style=\"text-align: right;\">\n",
              "      <th></th>\n",
              "      <th>mean_fit_time</th>\n",
              "      <th>std_fit_time</th>\n",
              "      <th>mean_score_time</th>\n",
              "      <th>std_score_time</th>\n",
              "      <th>param_n_estimators</th>\n",
              "      <th>param_min_samples_split</th>\n",
              "      <th>param_min_samples_leaf</th>\n",
              "      <th>params</th>\n",
              "      <th>split0_test_score</th>\n",
              "      <th>split1_test_score</th>\n",
              "      <th>split2_test_score</th>\n",
              "      <th>mean_test_score</th>\n",
              "      <th>std_test_score</th>\n",
              "      <th>rank_test_score</th>\n",
              "      <th>split0_train_score</th>\n",
              "      <th>split1_train_score</th>\n",
              "      <th>split2_train_score</th>\n",
              "      <th>mean_train_score</th>\n",
              "      <th>std_train_score</th>\n",
              "    </tr>\n",
              "  </thead>\n",
              "  <tbody>\n",
              "    <tr>\n",
              "      <th>0</th>\n",
              "      <td>0.017346</td>\n",
              "      <td>0.000898</td>\n",
              "      <td>0.002750</td>\n",
              "      <td>0.000133</td>\n",
              "      <td>10</td>\n",
              "      <td>8</td>\n",
              "      <td>4</td>\n",
              "      <td>{'n_estimators': 10, 'min_samples_split': 8, '...</td>\n",
              "      <td>0.790419</td>\n",
              "      <td>0.856287</td>\n",
              "      <td>0.807229</td>\n",
              "      <td>0.817979</td>\n",
              "      <td>0.027944</td>\n",
              "      <td>3</td>\n",
              "      <td>0.864865</td>\n",
              "      <td>0.834835</td>\n",
              "      <td>0.853293</td>\n",
              "      <td>0.850998</td>\n",
              "      <td>0.012367</td>\n",
              "    </tr>\n",
              "    <tr>\n",
              "      <th>1</th>\n",
              "      <td>0.023477</td>\n",
              "      <td>0.000552</td>\n",
              "      <td>0.002824</td>\n",
              "      <td>0.000063</td>\n",
              "      <td>15</td>\n",
              "      <td>16</td>\n",
              "      <td>5</td>\n",
              "      <td>{'n_estimators': 15, 'min_samples_split': 16, ...</td>\n",
              "      <td>0.784431</td>\n",
              "      <td>0.838323</td>\n",
              "      <td>0.813253</td>\n",
              "      <td>0.812003</td>\n",
              "      <td>0.022019</td>\n",
              "      <td>4</td>\n",
              "      <td>0.861862</td>\n",
              "      <td>0.825826</td>\n",
              "      <td>0.820359</td>\n",
              "      <td>0.836016</td>\n",
              "      <td>0.018412</td>\n",
              "    </tr>\n",
              "    <tr>\n",
              "      <th>2</th>\n",
              "      <td>0.031411</td>\n",
              "      <td>0.000764</td>\n",
              "      <td>0.003520</td>\n",
              "      <td>0.000028</td>\n",
              "      <td>20</td>\n",
              "      <td>8</td>\n",
              "      <td>3</td>\n",
              "      <td>{'n_estimators': 20, 'min_samples_split': 8, '...</td>\n",
              "      <td>0.802395</td>\n",
              "      <td>0.826347</td>\n",
              "      <td>0.825301</td>\n",
              "      <td>0.818015</td>\n",
              "      <td>0.011053</td>\n",
              "      <td>2</td>\n",
              "      <td>0.894895</td>\n",
              "      <td>0.873874</td>\n",
              "      <td>0.859281</td>\n",
              "      <td>0.876017</td>\n",
              "      <td>0.014618</td>\n",
              "    </tr>\n",
              "    <tr>\n",
              "      <th>3</th>\n",
              "      <td>0.016905</td>\n",
              "      <td>0.000330</td>\n",
              "      <td>0.002306</td>\n",
              "      <td>0.000063</td>\n",
              "      <td>10</td>\n",
              "      <td>20</td>\n",
              "      <td>1</td>\n",
              "      <td>{'n_estimators': 10, 'min_samples_split': 20, ...</td>\n",
              "      <td>0.790419</td>\n",
              "      <td>0.802395</td>\n",
              "      <td>0.777108</td>\n",
              "      <td>0.789974</td>\n",
              "      <td>0.010328</td>\n",
              "      <td>10</td>\n",
              "      <td>0.849850</td>\n",
              "      <td>0.846847</td>\n",
              "      <td>0.859281</td>\n",
              "      <td>0.851993</td>\n",
              "      <td>0.005298</td>\n",
              "    </tr>\n",
              "    <tr>\n",
              "      <th>4</th>\n",
              "      <td>0.030864</td>\n",
              "      <td>0.001126</td>\n",
              "      <td>0.003327</td>\n",
              "      <td>0.000165</td>\n",
              "      <td>20</td>\n",
              "      <td>8</td>\n",
              "      <td>4</td>\n",
              "      <td>{'n_estimators': 20, 'min_samples_split': 8, '...</td>\n",
              "      <td>0.790419</td>\n",
              "      <td>0.844311</td>\n",
              "      <td>0.825301</td>\n",
              "      <td>0.820011</td>\n",
              "      <td>0.022317</td>\n",
              "      <td>1</td>\n",
              "      <td>0.861862</td>\n",
              "      <td>0.855856</td>\n",
              "      <td>0.847305</td>\n",
              "      <td>0.855008</td>\n",
              "      <td>0.005973</td>\n",
              "    </tr>\n",
              "    <tr>\n",
              "      <th>5</th>\n",
              "      <td>0.030557</td>\n",
              "      <td>0.000196</td>\n",
              "      <td>0.003283</td>\n",
              "      <td>0.000105</td>\n",
              "      <td>20</td>\n",
              "      <td>20</td>\n",
              "      <td>1</td>\n",
              "      <td>{'n_estimators': 20, 'min_samples_split': 20, ...</td>\n",
              "      <td>0.772455</td>\n",
              "      <td>0.814371</td>\n",
              "      <td>0.789157</td>\n",
              "      <td>0.791994</td>\n",
              "      <td>0.017229</td>\n",
              "      <td>9</td>\n",
              "      <td>0.861862</td>\n",
              "      <td>0.855856</td>\n",
              "      <td>0.859281</td>\n",
              "      <td>0.859000</td>\n",
              "      <td>0.002460</td>\n",
              "    </tr>\n",
              "    <tr>\n",
              "      <th>6</th>\n",
              "      <td>0.024050</td>\n",
              "      <td>0.001658</td>\n",
              "      <td>0.002701</td>\n",
              "      <td>0.000080</td>\n",
              "      <td>15</td>\n",
              "      <td>16</td>\n",
              "      <td>4</td>\n",
              "      <td>{'n_estimators': 15, 'min_samples_split': 16, ...</td>\n",
              "      <td>0.778443</td>\n",
              "      <td>0.820359</td>\n",
              "      <td>0.813253</td>\n",
              "      <td>0.804018</td>\n",
              "      <td>0.018316</td>\n",
              "      <td>5</td>\n",
              "      <td>0.870871</td>\n",
              "      <td>0.828829</td>\n",
              "      <td>0.823353</td>\n",
              "      <td>0.841018</td>\n",
              "      <td>0.021227</td>\n",
              "    </tr>\n",
              "    <tr>\n",
              "      <th>7</th>\n",
              "      <td>0.016987</td>\n",
              "      <td>0.001289</td>\n",
              "      <td>0.002251</td>\n",
              "      <td>0.000061</td>\n",
              "      <td>10</td>\n",
              "      <td>16</td>\n",
              "      <td>6</td>\n",
              "      <td>{'n_estimators': 10, 'min_samples_split': 16, ...</td>\n",
              "      <td>0.766467</td>\n",
              "      <td>0.820359</td>\n",
              "      <td>0.813253</td>\n",
              "      <td>0.800026</td>\n",
              "      <td>0.023907</td>\n",
              "      <td>7</td>\n",
              "      <td>0.855856</td>\n",
              "      <td>0.819820</td>\n",
              "      <td>0.811377</td>\n",
              "      <td>0.829018</td>\n",
              "      <td>0.019288</td>\n",
              "    </tr>\n",
              "    <tr>\n",
              "      <th>8</th>\n",
              "      <td>0.023514</td>\n",
              "      <td>0.000109</td>\n",
              "      <td>0.002961</td>\n",
              "      <td>0.000237</td>\n",
              "      <td>15</td>\n",
              "      <td>16</td>\n",
              "      <td>2</td>\n",
              "      <td>{'n_estimators': 15, 'min_samples_split': 16, ...</td>\n",
              "      <td>0.760479</td>\n",
              "      <td>0.814371</td>\n",
              "      <td>0.801205</td>\n",
              "      <td>0.792018</td>\n",
              "      <td>0.022940</td>\n",
              "      <td>8</td>\n",
              "      <td>0.876877</td>\n",
              "      <td>0.837838</td>\n",
              "      <td>0.847305</td>\n",
              "      <td>0.854007</td>\n",
              "      <td>0.016627</td>\n",
              "    </tr>\n",
              "    <tr>\n",
              "      <th>9</th>\n",
              "      <td>0.016364</td>\n",
              "      <td>0.000144</td>\n",
              "      <td>0.002298</td>\n",
              "      <td>0.000136</td>\n",
              "      <td>10</td>\n",
              "      <td>16</td>\n",
              "      <td>5</td>\n",
              "      <td>{'n_estimators': 10, 'min_samples_split': 16, ...</td>\n",
              "      <td>0.778443</td>\n",
              "      <td>0.838323</td>\n",
              "      <td>0.795181</td>\n",
              "      <td>0.803982</td>\n",
              "      <td>0.025226</td>\n",
              "      <td>6</td>\n",
              "      <td>0.864865</td>\n",
              "      <td>0.822823</td>\n",
              "      <td>0.802395</td>\n",
              "      <td>0.830028</td>\n",
              "      <td>0.026007</td>\n",
              "    </tr>\n",
              "  </tbody>\n",
              "</table>\n",
              "</div>"
            ],
            "text/plain": [
              "   mean_fit_time  std_fit_time  ...  mean_train_score  std_train_score\n",
              "0       0.017346      0.000898  ...          0.850998         0.012367\n",
              "1       0.023477      0.000552  ...          0.836016         0.018412\n",
              "2       0.031411      0.000764  ...          0.876017         0.014618\n",
              "3       0.016905      0.000330  ...          0.851993         0.005298\n",
              "4       0.030864      0.001126  ...          0.855008         0.005973\n",
              "5       0.030557      0.000196  ...          0.859000         0.002460\n",
              "6       0.024050      0.001658  ...          0.841018         0.021227\n",
              "7       0.016987      0.001289  ...          0.829018         0.019288\n",
              "8       0.023514      0.000109  ...          0.854007         0.016627\n",
              "9       0.016364      0.000144  ...          0.830028         0.026007\n",
              "\n",
              "[10 rows x 19 columns]"
            ]
          },
          "metadata": {
            "tags": []
          },
          "execution_count": 149
        }
      ]
    }
  ]
}