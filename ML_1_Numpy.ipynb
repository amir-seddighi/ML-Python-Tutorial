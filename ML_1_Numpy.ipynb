{
  "nbformat": 4,
  "nbformat_minor": 0,
  "metadata": {
    "colab": {
      "provenance": []
    },
    "kernelspec": {
      "name": "python3",
      "display_name": "Python 3"
    }
  },
  "cells": [
    {
      "cell_type": "markdown",
      "metadata": {
        "id": "Aw86GpQw86-F"
      },
      "source": [
        "#Numpy"
      ]
    },
    {
      "cell_type": "markdown",
      "metadata": {
        "id": "i-n33VeHAxWA"
      },
      "source": [
        "**np.array VS Python List**"
      ]
    },
    {
      "cell_type": "code",
      "metadata": {
        "id": "OWYQeQW383PE",
        "colab": {
          "base_uri": "https://localhost:8080/"
        },
        "outputId": "3333de65-0b83-4516-d65a-1b4c07a8396f"
      },
      "source": [
        "import numpy as np\n",
        "\n",
        "A= [1,2,3,4,5]\n",
        "B= [0.5, 0.5, 0.5, 0.5, 0.5]\n",
        "\n",
        "print ('A =', A)                     \n",
        "print ('B =', B) \n",
        "\n",
        "#____________________________________________________________________________________________________________________\n",
        "print ('\\n')\n",
        "\n",
        "print ('A+B =', A+B)                     #note that A and B are \"List\" and they get \"Concatinated\"\n",
        "print ('A*2 =', A*2)                     #note that A is a \"List\" and if you multiply it by 2, it gets \"Concatinated\"\n",
        "#print ('A*B =', A*B)                    #This will not work!\n",
        "# A.shape                                #This will not work! use len(A)\n",
        "\n",
        "\n",
        "#____________________________________________________________________________________________________________________\n",
        "print ('\\n') \n",
        "A_np= np.array(A)                #Turn the \"List\" into Numpy-Array\n",
        "B_np= np.array(B)\n",
        "\n",
        "print ('A_np + B_np =', A_np + B_np) \n",
        "print ('A_np * B_np =', A_np * B_np)\n",
        "\n",
        "print ('\\n') \n",
        "print ('Shape  of A_np  =', A_np.shape)\n",
        "print ('Length of A_np  =', len(A_np))"
      ],
      "execution_count": null,
      "outputs": [
        {
          "output_type": "stream",
          "name": "stdout",
          "text": [
            "A = [1, 2, 3, 4, 5]\n",
            "B = [0.5, 0.5, 0.5, 0.5, 0.5]\n",
            "\n",
            "\n",
            "A+B = [1, 2, 3, 4, 5, 0.5, 0.5, 0.5, 0.5, 0.5]\n",
            "A*2 = [1, 2, 3, 4, 5, 1, 2, 3, 4, 5]\n",
            "\n",
            "\n",
            "A_np + B_np = [1.5 2.5 3.5 4.5 5.5]\n",
            "A_np * B_np = [0.5 1.  1.5 2.  2.5]\n",
            "\n",
            "\n",
            "Shape  of A_np  = (5,)\n",
            "Length of A_np  = 5\n"
          ]
        }
      ]
    },
    {
      "cell_type": "code",
      "source": [
        "A = [0.1, 0.9, 0.4, 0.2, 0.8, 0.1, 0.6] \n",
        "A= np.array(A)\n",
        "print ('A:',A)\n",
        "print ('A[0]:',A[0])\n",
        "print ('A[1]:',A[1])\n",
        "print ('A<0.5:',A<0.5)\n",
        "A[A<0.5]\n"
      ],
      "metadata": {
        "colab": {
          "base_uri": "https://localhost:8080/"
        },
        "id": "SRRh_0nfREMk",
        "outputId": "36871cef-f084-4470-b589-ad4bbc510a1c"
      },
      "execution_count": null,
      "outputs": [
        {
          "output_type": "stream",
          "name": "stdout",
          "text": [
            "A: [0.1 0.9 0.4 0.2 0.8 0.1 0.6]\n",
            "A[0]: 0.1\n",
            "A[1]: 0.9\n",
            "A<0.5: [ True False  True  True False  True False]\n"
          ]
        },
        {
          "output_type": "execute_result",
          "data": {
            "text/plain": [
              "array([0.1, 0.4, 0.2, 0.1])"
            ]
          },
          "metadata": {},
          "execution_count": 12
        }
      ]
    },
    {
      "cell_type": "code",
      "metadata": {
        "colab": {
          "base_uri": "https://localhost:8080/"
        },
        "id": "YLFIlJopjNAF",
        "outputId": "52761341-a92b-41ea-a6b3-52b26d7b3c4e"
      },
      "source": [
        "A = [0.1, 0.9, 0.4, 0.2, 0.8, 0.1, 0.6]\n",
        "A= np.array(A) \n",
        "print ([A<=0.5])                          #This is a True/False array\n",
        "np.array([A<=0.5]).astype(int)\n"
      ],
      "execution_count": null,
      "outputs": [
        {
          "output_type": "stream",
          "name": "stdout",
          "text": [
            "[array([ True, False,  True,  True, False,  True, False])]\n"
          ]
        },
        {
          "output_type": "execute_result",
          "data": {
            "text/plain": [
              "array([[1, 0, 1, 1, 0, 1, 0]])"
            ]
          },
          "metadata": {},
          "execution_count": 5
        }
      ]
    },
    {
      "cell_type": "code",
      "metadata": {
        "colab": {
          "base_uri": "https://localhost:8080/"
        },
        "id": "x-W08NeyihEJ",
        "outputId": "d53adfa1-a58b-4458-b064-62c97155449f"
      },
      "source": [
        "A = [0.1, 0.9, 0.4, 0.2, 0.8, 0.1, 0.6] \n",
        "A= np.array(A)\n",
        "A[A<0.5]= 0\n",
        "A[A>0.5]= 1\n",
        "A\n"
      ],
      "execution_count": null,
      "outputs": [
        {
          "output_type": "execute_result",
          "data": {
            "text/plain": [
              "array([0., 1., 0., 0., 1., 0., 1.])"
            ]
          },
          "metadata": {},
          "execution_count": 2
        }
      ]
    },
    {
      "cell_type": "markdown",
      "metadata": {
        "id": "MfhcWrIZkzB4"
      },
      "source": [
        "**Reshapeing a matrix**"
      ]
    },
    {
      "cell_type": "code",
      "metadata": {
        "colab": {
          "base_uri": "https://localhost:8080/"
        },
        "id": "QdkrR8aAkmW5",
        "outputId": "1d038462-8aba-4b29-ce41-4b22b3681961"
      },
      "source": [
        "A = [  [1,2,3], [4,5,6]    ]        # Remember that this is a list. \n",
        "#A.shape                            #So, A.shape wouldn't work\n",
        "len(A)    "
      ],
      "execution_count": null,
      "outputs": [
        {
          "output_type": "execute_result",
          "data": {
            "text/plain": [
              "2"
            ]
          },
          "metadata": {},
          "execution_count": 11
        }
      ]
    },
    {
      "cell_type": "code",
      "source": [
        "type(A)                             #Verify that A is a list!"
      ],
      "metadata": {
        "colab": {
          "base_uri": "https://localhost:8080/"
        },
        "id": "o8u0b_-fNonC",
        "outputId": "68a81de2-12df-4356-aa58-53bf4953f8b5"
      },
      "execution_count": null,
      "outputs": [
        {
          "output_type": "execute_result",
          "data": {
            "text/plain": [
              "list"
            ]
          },
          "metadata": {},
          "execution_count": 8
        }
      ]
    },
    {
      "cell_type": "code",
      "source": [
        "np.reshape(A,6)                      #a list CAN be reshaped!"
      ],
      "metadata": {
        "colab": {
          "base_uri": "https://localhost:8080/"
        },
        "id": "OBuEPhbuOAAV",
        "outputId": "750c0a56-fec0-4ef5-eaf0-cc13c846e3fa"
      },
      "execution_count": null,
      "outputs": [
        {
          "output_type": "execute_result",
          "data": {
            "text/plain": [
              "array([1, 2, 3, 4, 5, 6])"
            ]
          },
          "metadata": {},
          "execution_count": 12
        }
      ]
    },
    {
      "cell_type": "code",
      "source": [],
      "metadata": {
        "id": "FSQ2TU_gO4dL"
      },
      "execution_count": null,
      "outputs": []
    },
    {
      "cell_type": "code",
      "metadata": {
        "colab": {
          "base_uri": "https://localhost:8080/"
        },
        "id": "DhFbvFYek-uh",
        "outputId": "da7242e0-58b2-4886-83fb-99726700205c"
      },
      "source": [
        "B = [  [1,2,3], [4,5,6], [7,8,9], [10,11,12]    ]       #This is a 4*3 Matrix\n",
        "np.reshape(B,(2,6))                                     #Now it is reshaped into a 2*6 matrix"
      ],
      "execution_count": null,
      "outputs": [
        {
          "output_type": "execute_result",
          "data": {
            "text/plain": [
              "array([[ 1,  2,  3,  4,  5,  6],\n",
              "       [ 7,  8,  9, 10, 11, 12]])"
            ]
          },
          "metadata": {},
          "execution_count": 13
        }
      ]
    },
    {
      "cell_type": "code",
      "source": [
        "type(B)                                                 #Remember B is a list. "
      ],
      "metadata": {
        "colab": {
          "base_uri": "https://localhost:8080/"
        },
        "id": "wr7VGSFgOwQl",
        "outputId": "d054e571-a484-40f1-9833-fa98585284f6"
      },
      "execution_count": null,
      "outputs": [
        {
          "output_type": "execute_result",
          "data": {
            "text/plain": [
              "list"
            ]
          },
          "metadata": {},
          "execution_count": 14
        }
      ]
    },
    {
      "cell_type": "code",
      "source": [
        "len(B)                                                  # length os B is 4"
      ],
      "metadata": {
        "colab": {
          "base_uri": "https://localhost:8080/"
        },
        "id": "0YnnG_kEOT7W",
        "outputId": "4b0fb622-3d81-4c37-b469-3ce463c54f55"
      },
      "execution_count": null,
      "outputs": [
        {
          "output_type": "execute_result",
          "data": {
            "text/plain": [
              "4"
            ]
          },
          "metadata": {},
          "execution_count": 15
        }
      ]
    },
    {
      "cell_type": "code",
      "source": [
        "type(np.reshape(B,(2,6)))                               #But....! when reshaped, it turned into a np.Array!"
      ],
      "metadata": {
        "colab": {
          "base_uri": "https://localhost:8080/"
        },
        "id": "BPW102kFOym6",
        "outputId": "d81f6602-7d1b-4cbd-d780-5a64fe1dc0ff"
      },
      "execution_count": null,
      "outputs": [
        {
          "output_type": "execute_result",
          "data": {
            "text/plain": [
              "numpy.ndarray"
            ]
          },
          "metadata": {},
          "execution_count": 24
        }
      ]
    },
    {
      "cell_type": "code",
      "source": [
        "len(np.reshape(B,(2,6))  )                              #with length 2"
      ],
      "metadata": {
        "colab": {
          "base_uri": "https://localhost:8080/"
        },
        "id": "yf4vmNDOOdYS",
        "outputId": "9c883a96-48b2-4f72-ce0c-e0ed4b5479b3"
      },
      "execution_count": null,
      "outputs": [
        {
          "output_type": "execute_result",
          "data": {
            "text/plain": [
              "2"
            ]
          },
          "metadata": {},
          "execution_count": 20
        }
      ]
    },
    {
      "cell_type": "code",
      "source": [
        "np.reshape(B,(2,6)).shape                                #and you can also use \"shape\" now"
      ],
      "metadata": {
        "colab": {
          "base_uri": "https://localhost:8080/"
        },
        "id": "V9nHPO0ZOrIO",
        "outputId": "8e1acea4-1d4f-499d-e719-79bd1d6565b0"
      },
      "execution_count": null,
      "outputs": [
        {
          "output_type": "execute_result",
          "data": {
            "text/plain": [
              "(2, 6)"
            ]
          },
          "metadata": {},
          "execution_count": 21
        }
      ]
    },
    {
      "cell_type": "markdown",
      "metadata": {
        "id": "AWXin8qkA3tp"
      },
      "source": [
        "**Numpy for mathematical operations**"
      ]
    },
    {
      "cell_type": "code",
      "metadata": {
        "id": "PrI3-RNm-Bju",
        "colab": {
          "base_uri": "https://localhost:8080/",
          "height": 34
        },
        "outputId": "b4192348-e7ba-43ee-c382-1e65d4b046e2"
      },
      "source": [
        "A = np.array( [1,2,3] )\n",
        "B=  np.array( [4,5,6] )\n",
        "A+B"
      ],
      "execution_count": null,
      "outputs": [
        {
          "output_type": "execute_result",
          "data": {
            "text/plain": [
              "array([5, 7, 9])"
            ]
          },
          "metadata": {
            "tags": []
          },
          "execution_count": 2
        }
      ]
    },
    {
      "cell_type": "code",
      "metadata": {
        "id": "rVRc7o87-C0_",
        "colab": {
          "base_uri": "https://localhost:8080/",
          "height": 35
        },
        "outputId": "fa2bc6fc-9429-4301-cd9b-40298f1f4ba8"
      },
      "source": [
        "A = np.array( [1,2,3] )\n",
        "B=  np.array( [4,5,6] )\n",
        "A * B"
      ],
      "execution_count": null,
      "outputs": [
        {
          "output_type": "execute_result",
          "data": {
            "text/plain": [
              "array([ 4, 10, 18])"
            ]
          },
          "metadata": {
            "tags": []
          },
          "execution_count": 5
        }
      ]
    },
    {
      "cell_type": "code",
      "metadata": {
        "id": "--8EQgMD-NTK",
        "colab": {
          "base_uri": "https://localhost:8080/",
          "height": 35
        },
        "outputId": "5d619b43-30b7-43d9-e483-342408142d05"
      },
      "source": [
        "A = np.array( [1,2,3] )\n",
        "np.sum(A)"
      ],
      "execution_count": null,
      "outputs": [
        {
          "output_type": "execute_result",
          "data": {
            "text/plain": [
              "6"
            ]
          },
          "metadata": {
            "tags": []
          },
          "execution_count": 7
        }
      ]
    },
    {
      "cell_type": "code",
      "metadata": {
        "id": "5dn_K0-L-RUR",
        "colab": {
          "base_uri": "https://localhost:8080/",
          "height": 35
        },
        "outputId": "37da9586-ae32-4c54-b9f5-51abddaa0ff6"
      },
      "source": [
        "A = np.array( [1,2,3] )\n",
        "A.sum()"
      ],
      "execution_count": null,
      "outputs": [
        {
          "output_type": "execute_result",
          "data": {
            "text/plain": [
              "6"
            ]
          },
          "metadata": {
            "tags": []
          },
          "execution_count": 75
        }
      ]
    },
    {
      "cell_type": "code",
      "metadata": {
        "id": "ZAKzN14l-a79",
        "colab": {
          "base_uri": "https://localhost:8080/",
          "height": 35
        },
        "outputId": "71e3f37b-016a-4574-97ab-718ef7775059"
      },
      "source": [
        "A = np.array( [1,2,3] )\n",
        "B=  np.array( [4,5,6] )\n",
        "np.dot(A,B)"
      ],
      "execution_count": null,
      "outputs": [
        {
          "output_type": "execute_result",
          "data": {
            "text/plain": [
              "32"
            ]
          },
          "metadata": {
            "tags": []
          },
          "execution_count": 10
        }
      ]
    },
    {
      "cell_type": "code",
      "metadata": {
        "id": "uKJRvUzN-Hnn",
        "colab": {
          "base_uri": "https://localhost:8080/",
          "height": 35
        },
        "outputId": "acd3b45e-1f0f-4fe8-b827-a44e7160f90a"
      },
      "source": [
        "A = np.array( [1,2,3] )\n",
        "B=  np.array( [4,5,6] )\n",
        "A .dot(B)"
      ],
      "execution_count": null,
      "outputs": [
        {
          "output_type": "execute_result",
          "data": {
            "text/plain": [
              "32"
            ]
          },
          "metadata": {
            "tags": []
          },
          "execution_count": 6
        }
      ]
    },
    {
      "cell_type": "code",
      "metadata": {
        "id": "YOa_RUmy_FCb",
        "colab": {
          "base_uri": "https://localhost:8080/",
          "height": 35
        },
        "outputId": "8c383efa-e67c-498c-9c36-288e7a262997"
      },
      "source": [
        "A = np.array( [1,2,3] )\n",
        "np.linalg.norm(A)           #Gives the norm (i.e. magnitude) of the array"
      ],
      "execution_count": null,
      "outputs": [
        {
          "output_type": "execute_result",
          "data": {
            "text/plain": [
              "3.7416573867739413"
            ]
          },
          "metadata": {
            "tags": []
          },
          "execution_count": 14
        }
      ]
    },
    {
      "cell_type": "code",
      "metadata": {
        "id": "k6W1sSjQ_U22",
        "colab": {
          "base_uri": "https://localhost:8080/",
          "height": 35
        },
        "outputId": "9645aeac-bca6-4c87-fdbb-a421c1844c40"
      },
      "source": [
        "A = np.array( [1,2,3] )\n",
        "( np.sum(A**2)) **0.5        #To check magnitude of the array"
      ],
      "execution_count": null,
      "outputs": [
        {
          "output_type": "execute_result",
          "data": {
            "text/plain": [
              "3.7416573867739413"
            ]
          },
          "metadata": {
            "tags": []
          },
          "execution_count": 15
        }
      ]
    },
    {
      "cell_type": "code",
      "metadata": {
        "id": "9R_XDHfZ-ZYt",
        "colab": {
          "base_uri": "https://localhost:8080/",
          "height": 243
        },
        "outputId": "60a2d574-2aa5-43b6-ad6c-23ec38ed7bb3"
      },
      "source": [
        "A = np.array([0, 1 ,10])\n",
        "\n",
        "print( np.sqrt(A) )\n",
        "print( np.tanh(A) )\n",
        "print( np.cos(A) )\n",
        "print( np.arccos(A) )\n",
        "print( np.exp(A) )\n",
        "print( np.log(A) )\n",
        "print( np.log10(A) )\n"
      ],
      "execution_count": null,
      "outputs": [
        {
          "output_type": "stream",
          "text": [
            "[0.         1.         3.16227766]\n",
            "[0.         0.76159416 1.        ]\n",
            "[ 1.          0.54030231 -0.83907153]\n",
            "[1.57079633 0.                nan]\n",
            "[1.00000000e+00 2.71828183e+00 2.20264658e+04]\n",
            "[      -inf 0.         2.30258509]\n",
            "[-inf   0.   1.]\n"
          ],
          "name": "stdout"
        },
        {
          "output_type": "stream",
          "text": [
            "/usr/local/lib/python3.6/dist-packages/ipykernel_launcher.py:6: RuntimeWarning: invalid value encountered in arccos\n",
            "  \n",
            "/usr/local/lib/python3.6/dist-packages/ipykernel_launcher.py:8: RuntimeWarning: divide by zero encountered in log\n",
            "  \n",
            "/usr/local/lib/python3.6/dist-packages/ipykernel_launcher.py:9: RuntimeWarning: divide by zero encountered in log10\n",
            "  if __name__ == '__main__':\n"
          ],
          "name": "stderr"
        }
      ]
    },
    {
      "cell_type": "markdown",
      "metadata": {
        "id": "YC53AidQBBjD"
      },
      "source": [
        "**Numpy Matrix**"
      ]
    },
    {
      "cell_type": "code",
      "metadata": {
        "id": "pDfMThAX-5bP",
        "colab": {
          "base_uri": "https://localhost:8080/",
          "height": 35
        },
        "outputId": "7682754b-b6c5-467c-d518-12893a05915f"
      },
      "source": [
        "L = [ [1,2,3] , [4,5,6] ]               #Creating a matrix with Python Lists\n",
        "L"
      ],
      "execution_count": null,
      "outputs": [
        {
          "output_type": "execute_result",
          "data": {
            "text/plain": [
              "[[1, 2, 3], [4, 5, 6]]"
            ]
          },
          "metadata": {
            "tags": []
          },
          "execution_count": 28
        }
      ]
    },
    {
      "cell_type": "code",
      "metadata": {
        "id": "Yk3kb6UeBXe4",
        "colab": {
          "base_uri": "https://localhost:8080/",
          "height": 35
        },
        "outputId": "0204bf36-23e5-47eb-baa4-d1ab758f23de"
      },
      "source": [
        "#  L[0,1]                              #This would not work!!\n",
        "L[0][1]                                #Row 0, Column 1"
      ],
      "execution_count": null,
      "outputs": [
        {
          "output_type": "execute_result",
          "data": {
            "text/plain": [
              "2"
            ]
          },
          "metadata": {
            "tags": []
          },
          "execution_count": 63
        }
      ]
    },
    {
      "cell_type": "code",
      "metadata": {
        "id": "XuLCMROmBtxo",
        "colab": {
          "base_uri": "https://localhost:8080/"
        },
        "outputId": "39c0d77d-bc85-448d-8f0a-7e30c2c85720"
      },
      "source": [
        "M = np.array( [ [1,2,3] , [4,5,6] ] )    #Creating a matrix with Numpy arrays\n",
        "M"
      ],
      "execution_count": null,
      "outputs": [
        {
          "output_type": "execute_result",
          "data": {
            "text/plain": [
              "array([[1, 2, 3],\n",
              "       [4, 5, 6]])"
            ]
          },
          "metadata": {},
          "execution_count": 6
        }
      ]
    },
    {
      "cell_type": "code",
      "source": [
        "M = np.array( [ [1,2,3] , [4,5,6] ] )\n",
        "\n",
        "print(\"Length of M: \", len(M))\n",
        "print(\"Shape  of M:\", M.shape)"
      ],
      "metadata": {
        "colab": {
          "base_uri": "https://localhost:8080/"
        },
        "id": "TEIGPTOKynzx",
        "outputId": "994c1ba0-25c7-4aa1-efa0-b163b114cf7f"
      },
      "execution_count": null,
      "outputs": [
        {
          "output_type": "stream",
          "name": "stdout",
          "text": [
            "Length of M:  2\n",
            "Shape  of M: (2, 3)\n"
          ]
        }
      ]
    },
    {
      "cell_type": "code",
      "metadata": {
        "id": "Cd0fEy_2CRwS",
        "colab": {
          "base_uri": "https://localhost:8080/"
        },
        "outputId": "21498bc2-05c4-412d-b392-4832c2adbb5d"
      },
      "source": [
        "M = np.array( [ [1,2,3] , [4,5,6] ] )\n",
        "M[0,1]                                 #This one does work!!"
      ],
      "execution_count": null,
      "outputs": [
        {
          "output_type": "execute_result",
          "data": {
            "text/plain": [
              "2"
            ]
          },
          "metadata": {},
          "execution_count": 7
        }
      ]
    },
    {
      "cell_type": "code",
      "metadata": {
        "id": "Vv5Tu0kmCbtO",
        "colab": {
          "base_uri": "https://localhost:8080/",
          "height": 35
        },
        "outputId": "77f6868f-f95d-47c7-854d-6a6445d2ad3d"
      },
      "source": [
        "M = np.array( [ [1,2,3] , [4,5,6] ] )\n",
        "M[:,2]"
      ],
      "execution_count": null,
      "outputs": [
        {
          "output_type": "execute_result",
          "data": {
            "text/plain": [
              "array([3, 6])"
            ]
          },
          "metadata": {
            "tags": []
          },
          "execution_count": 65
        }
      ]
    },
    {
      "cell_type": "code",
      "metadata": {
        "id": "2L7lCLw0CgCG",
        "colab": {
          "base_uri": "https://localhost:8080/",
          "height": 35
        },
        "outputId": "f25b3882-980f-411b-9b0d-f5c2f51f27b2"
      },
      "source": [
        "M = np.array( [ [1,2,3] , [4,5,6] ] )\n",
        "M[0,:]"
      ],
      "execution_count": null,
      "outputs": [
        {
          "output_type": "execute_result",
          "data": {
            "text/plain": [
              "array([1, 2, 3])"
            ]
          },
          "metadata": {
            "tags": []
          },
          "execution_count": 66
        }
      ]
    },
    {
      "cell_type": "code",
      "metadata": {
        "id": "ztX2SFGSCoWw",
        "colab": {
          "base_uri": "https://localhost:8080/",
          "height": 52
        },
        "outputId": "7a12ff26-80f3-41d0-f264-e187aada6021"
      },
      "source": [
        "M = np.array( [ [1,2,3] , [4,5,6] ] )\n",
        "np.sqrt(M)"
      ],
      "execution_count": null,
      "outputs": [
        {
          "output_type": "execute_result",
          "data": {
            "text/plain": [
              "array([[1.        , 1.41421356, 1.73205081],\n",
              "       [2.        , 2.23606798, 2.44948974]])"
            ]
          },
          "metadata": {
            "tags": []
          },
          "execution_count": 67
        }
      ]
    },
    {
      "cell_type": "code",
      "metadata": {
        "id": "WENmMUj9Cuep",
        "colab": {
          "base_uri": "https://localhost:8080/",
          "height": 52
        },
        "outputId": "520e315a-0f28-40c5-a3f7-885e172bb981"
      },
      "source": [
        "M = np.array( [ [1,2,3] , [4,5,6] ] )\n",
        "np.exp(M)"
      ],
      "execution_count": null,
      "outputs": [
        {
          "output_type": "execute_result",
          "data": {
            "text/plain": [
              "array([[  2.71828183,   7.3890561 ,  20.08553692],\n",
              "       [ 54.59815003, 148.4131591 , 403.42879349]])"
            ]
          },
          "metadata": {
            "tags": []
          },
          "execution_count": 68
        }
      ]
    },
    {
      "cell_type": "markdown",
      "metadata": {
        "id": "NZdMpFQML3vX"
      },
      "source": [
        "**Linear ALgebra in Numpy**"
      ]
    },
    {
      "cell_type": "code",
      "metadata": {
        "id": "iGYkLniWEQfA",
        "colab": {
          "base_uri": "https://localhost:8080/",
          "height": 69
        },
        "outputId": "b14e8a4d-3b9c-4d97-9cbd-e69e2ab6056c"
      },
      "source": [
        "M = np.array( [ [1,2,3] , [4,5,6] ] )\n",
        "M.T    #M Tanspose"
      ],
      "execution_count": null,
      "outputs": [
        {
          "output_type": "execute_result",
          "data": {
            "text/plain": [
              "array([[1, 4],\n",
              "       [2, 5],\n",
              "       [3, 6]])"
            ]
          },
          "metadata": {
            "tags": []
          },
          "execution_count": 69
        }
      ]
    },
    {
      "cell_type": "code",
      "metadata": {
        "id": "fNKMZUWiF38N",
        "colab": {
          "base_uri": "https://localhost:8080/",
          "height": 35
        },
        "outputId": "32a76cea-7f69-4fd9-8f0d-972b33e36264"
      },
      "source": [
        "M = np.array( [ [1,2] , [4,5] ] )\n",
        "np.linalg.det(M)"
      ],
      "execution_count": null,
      "outputs": [
        {
          "output_type": "execute_result",
          "data": {
            "text/plain": [
              "-2.9999999999999996"
            ]
          },
          "metadata": {
            "tags": []
          },
          "execution_count": 70
        }
      ]
    },
    {
      "cell_type": "code",
      "metadata": {
        "id": "ruPiUukbF_ej",
        "colab": {
          "base_uri": "https://localhost:8080/",
          "height": 52
        },
        "outputId": "048a4620-4988-4990-f2e8-c4279d2ca3d3"
      },
      "source": [
        "M = np.array( [ [1,2] , [4,5] ] )\n",
        "np.linalg.inv(M)"
      ],
      "execution_count": null,
      "outputs": [
        {
          "output_type": "execute_result",
          "data": {
            "text/plain": [
              "array([[-1.66666667,  0.66666667],\n",
              "       [ 1.33333333, -0.33333333]])"
            ]
          },
          "metadata": {
            "tags": []
          },
          "execution_count": 71
        }
      ]
    },
    {
      "cell_type": "code",
      "metadata": {
        "id": "vAssoNeTGG7h",
        "colab": {
          "base_uri": "https://localhost:8080/",
          "height": 52
        },
        "outputId": "2af0d7e6-eb35-4137-f81d-d99eca48b2ee"
      },
      "source": [
        "M = np.array( [ [1,2] , [4,5] ] )\n",
        "M_inv = np.linalg.inv(M)\n",
        "np.matmul(M, M_inv)"
      ],
      "execution_count": null,
      "outputs": [
        {
          "output_type": "execute_result",
          "data": {
            "text/plain": [
              "array([[1.00000000e+00, 0.00000000e+00],\n",
              "       [2.22044605e-16, 1.00000000e+00]])"
            ]
          },
          "metadata": {
            "tags": []
          },
          "execution_count": 72
        }
      ]
    },
    {
      "cell_type": "code",
      "metadata": {
        "id": "BS2HSIqlGaw4",
        "colab": {
          "base_uri": "https://localhost:8080/",
          "height": 35
        },
        "outputId": "8922d7ff-6d4c-467e-a226-6dc44f6ef075"
      },
      "source": [
        "M = np.array( [ [1,2,3] , [4,5,6] ] ) \n",
        "np.diag(M )                                #matrix does not need to be Square to have a DIAGONAL !!"
      ],
      "execution_count": null,
      "outputs": [
        {
          "output_type": "execute_result",
          "data": {
            "text/plain": [
              "array([1, 5])"
            ]
          },
          "metadata": {
            "tags": []
          },
          "execution_count": 73
        }
      ]
    },
    {
      "cell_type": "code",
      "metadata": {
        "id": "5HIk_hIxILks",
        "colab": {
          "base_uri": "https://localhost:8080/",
          "height": 69
        },
        "outputId": "7ef3153f-a2f1-4f08-feb6-230a076825ed"
      },
      "source": [
        "np.diag( [1,2,3])                         # np.diag can get a list (or an array) and return a matrix with its DIAGONAL being that List"
      ],
      "execution_count": null,
      "outputs": [
        {
          "output_type": "execute_result",
          "data": {
            "text/plain": [
              "array([[1, 0, 0],\n",
              "       [0, 2, 0],\n",
              "       [0, 0, 3]])"
            ]
          },
          "metadata": {
            "tags": []
          },
          "execution_count": 74
        }
      ]
    },
    {
      "cell_type": "code",
      "metadata": {
        "id": "DO5QKK3QC4zb",
        "colab": {
          "base_uri": "https://localhost:8080/",
          "height": 52
        },
        "outputId": "6f77b986-47ff-4d3b-99d3-10ac69205775"
      },
      "source": [
        "M = np.array( [ [1,2,3] , [4,5,6] ] )  \n",
        "N = np.array( [ [0,1,4] , [1,0,3] ] )    \n",
        "\n",
        "M*N                                        # all elements are multiplied one-by-one  when using *"
      ],
      "execution_count": null,
      "outputs": [
        {
          "output_type": "execute_result",
          "data": {
            "text/plain": [
              "array([[ 0,  2, 12],\n",
              "       [ 4,  0, 18]])"
            ]
          },
          "metadata": {
            "tags": []
          },
          "execution_count": 46
        }
      ]
    },
    {
      "cell_type": "code",
      "metadata": {
        "id": "zznw47xEDcxH",
        "colab": {
          "base_uri": "https://localhost:8080/",
          "height": 52
        },
        "outputId": "4bc0d2ab-e2ec-44b9-f5f6-2419b5f2cae5"
      },
      "source": [
        "M = np.array( [ [1,2] , [4,5] ] )  \n",
        "N = np.array( [ [0,1,4] , [1,0,3] ] ) \n",
        "\n",
        "np.dot(M,N)                               #Matrix multiplication   (2x2)(2,3)--->(2,3)\n",
        "np.matmul(M,N)                            #Matrix multiplication   (2x2)(2,3)--->(2,3)"
      ],
      "execution_count": null,
      "outputs": [
        {
          "output_type": "execute_result",
          "data": {
            "text/plain": [
              "array([[ 2,  1, 10],\n",
              "       [ 5,  4, 31]])"
            ]
          },
          "metadata": {
            "tags": []
          },
          "execution_count": 49
        }
      ]
    },
    {
      "cell_type": "code",
      "metadata": {
        "id": "5-kaLWjZF12s",
        "colab": {
          "base_uri": "https://localhost:8080/",
          "height": 35
        },
        "outputId": "b2423752-beb9-4d53-8944-b6344ab5c652"
      },
      "source": [
        "#Solving a system of linear equations: A.x=b\n",
        "A = np.array ( [  [1 ,3 ,10], [0.5, 1, 5] , [1 , 10, 20] ] )\n",
        "b = np.array ( [44 ,18, 110 ] ) \n",
        "\n",
        "solution = np.linalg.solve(A,b)    \n",
        "solution"
      ],
      "execution_count": null,
      "outputs": [
        {
          "output_type": "execute_result",
          "data": {
            "text/plain": [
              "array([10.,  8.,  1.])"
            ]
          },
          "metadata": {
            "tags": []
          },
          "execution_count": 82
        }
      ]
    },
    {
      "cell_type": "markdown",
      "metadata": {
        "id": "UisvNiquMDFl"
      },
      "source": [
        "**Generating special matrices**"
      ]
    },
    {
      "cell_type": "code",
      "metadata": {
        "id": "1DOW7OlpN_7g",
        "colab": {
          "base_uri": "https://localhost:8080/",
          "height": 69
        },
        "outputId": "bfb8872a-ee75-497f-d5de-4c3fc249d18f"
      },
      "source": [
        "np.eye ( 3 )"
      ],
      "execution_count": null,
      "outputs": [
        {
          "output_type": "execute_result",
          "data": {
            "text/plain": [
              "array([[1., 0., 0.],\n",
              "       [0., 1., 0.],\n",
              "       [0., 0., 1.]])"
            ]
          },
          "metadata": {
            "tags": []
          },
          "execution_count": 87
        }
      ]
    },
    {
      "cell_type": "code",
      "metadata": {
        "id": "fudOGZUJFkHC",
        "colab": {
          "base_uri": "https://localhost:8080/",
          "height": 69
        },
        "outputId": "13bf3816-c0a4-4dd0-bbcb-66d32903e070"
      },
      "source": [
        "np.zeros(  (3,4)  )"
      ],
      "execution_count": null,
      "outputs": [
        {
          "output_type": "execute_result",
          "data": {
            "text/plain": [
              "array([[0., 0., 0., 0.],\n",
              "       [0., 0., 0., 0.],\n",
              "       [0., 0., 0., 0.]])"
            ]
          },
          "metadata": {
            "tags": []
          },
          "execution_count": 84
        }
      ]
    },
    {
      "cell_type": "code",
      "metadata": {
        "id": "B88ODAnTN1gq",
        "colab": {
          "base_uri": "https://localhost:8080/",
          "height": 69
        },
        "outputId": "db493819-91df-45fa-ed5b-0885209e1298"
      },
      "source": [
        "np.ones(  (3,4)  )"
      ],
      "execution_count": null,
      "outputs": [
        {
          "output_type": "execute_result",
          "data": {
            "text/plain": [
              "array([[1., 1., 1., 1.],\n",
              "       [1., 1., 1., 1.],\n",
              "       [1., 1., 1., 1.]])"
            ]
          },
          "metadata": {
            "tags": []
          },
          "execution_count": 85
        }
      ]
    },
    {
      "cell_type": "markdown",
      "metadata": {
        "id": "77sgtiyMOowD"
      },
      "source": [
        "**Generating Random Numbers**"
      ]
    },
    {
      "cell_type": "code",
      "metadata": {
        "id": "ZhzdR0NxN3TK",
        "colab": {
          "base_uri": "https://localhost:8080/"
        },
        "outputId": "35d54fcc-37f5-4826-fe62-4e0a9802c524"
      },
      "source": [
        "np.random.seed(123)\n",
        "np.random.random(2)            #Returns 2 random number from UNIFORM distribution"
      ],
      "execution_count": null,
      "outputs": [
        {
          "output_type": "execute_result",
          "data": {
            "text/plain": [
              "array([0.69646919, 0.28613933])"
            ]
          },
          "metadata": {},
          "execution_count": 8
        }
      ]
    },
    {
      "cell_type": "code",
      "metadata": {
        "id": "krdNHUnBPIK8",
        "colab": {
          "base_uri": "https://localhost:8080/"
        },
        "outputId": "ea5cc386-4c75-48df-d72a-56c5a7d19210"
      },
      "source": [
        "np.random.seed(123)\n",
        "np.random.random(  (2,3)  )     #Returns a random 2x3 matrix from UNIFORM distribution"
      ],
      "execution_count": null,
      "outputs": [
        {
          "output_type": "execute_result",
          "data": {
            "text/plain": [
              "array([[0.69646919, 0.28613933, 0.22685145],\n",
              "       [0.55131477, 0.71946897, 0.42310646]])"
            ]
          },
          "metadata": {},
          "execution_count": 11
        }
      ]
    },
    {
      "cell_type": "code",
      "metadata": {
        "id": "jiL-vxPQO0ts",
        "colab": {
          "base_uri": "https://localhost:8080/"
        },
        "outputId": "2bb09f1a-dad9-4d4f-879c-28c8852cb9bb"
      },
      "source": [
        "np.random.seed(123)\n",
        "np.random.randn(2)             #Returns 2 random number from STANDARD NORMAL distribution"
      ],
      "execution_count": null,
      "outputs": [
        {
          "output_type": "execute_result",
          "data": {
            "text/plain": [
              "array([-1.0856306 ,  0.99734545])"
            ]
          },
          "metadata": {},
          "execution_count": 14
        }
      ]
    },
    {
      "cell_type": "code",
      "metadata": {
        "id": "tgkL5nUsPAo4",
        "colab": {
          "base_uri": "https://localhost:8080/"
        },
        "outputId": "8d0b2d4c-ba28-433b-bd04-e08c2741f990"
      },
      "source": [
        "np.random.seed(123)\n",
        "np.random.randn(2,3)           #Returns a random 2x3 matrix from STANDARD NORMAL distribution"
      ],
      "execution_count": null,
      "outputs": [
        {
          "output_type": "execute_result",
          "data": {
            "text/plain": [
              "array([[-1.0856306 ,  0.99734545,  0.2829785 ],\n",
              "       [-1.50629471, -0.57860025,  1.65143654]])"
            ]
          },
          "metadata": {},
          "execution_count": 16
        }
      ]
    },
    {
      "cell_type": "code",
      "metadata": {
        "id": "Jj5539ZWSt_O",
        "colab": {
          "base_uri": "https://localhost:8080/"
        },
        "outputId": "cc9e1e60-0f0a-447c-cb0a-169b14830edb"
      },
      "source": [
        "np.random.seed(123)\n",
        "R = np.random.normal(6, 2, 1000)             #Returns 1000 random number from NORMAL distribution with mean=6 and std=2\n",
        "\n",
        "print ( 'Mean is:', R.mean()  )\n",
        "print ( 'Variance is:', R.var()  )\n",
        "print ( 'St. Dev.  is:', R.std()  )"
      ],
      "execution_count": null,
      "outputs": [
        {
          "output_type": "stream",
          "name": "stdout",
          "text": [
            "Mean is: 5.920871727838416\n",
            "Variance is: 4.006302780991224\n",
            "St. Dev.  is: 2.001575075032467\n"
          ]
        }
      ]
    },
    {
      "cell_type": "code",
      "metadata": {
        "id": "jMMvRuF0PJEL",
        "colab": {
          "base_uri": "https://localhost:8080/",
          "height": 121
        },
        "outputId": "88eb8270-0f6b-472e-a241-86929c8c1afc"
      },
      "source": [
        "np.random.seed(123)\n",
        "R = np.random.randn(10,3)                            #Returns a random 10x3 matrix from STANDARD NORMAL distribution\n",
        "print ( 'Mean of each column is:', R.mean(axis=0)  )\n",
        "print('\\n')\n",
        "print ( 'Mean of each row is:', '\\n', R.mean(axis=1)  )"
      ],
      "execution_count": null,
      "outputs": [
        {
          "output_type": "stream",
          "text": [
            "Mean of each column is: [-0.0800731  -0.29081877 -0.18122091]\n",
            "\n",
            "\n",
            "Mean of each row is: \n",
            " [ 0.60693432  0.43845917 -0.04947817 -1.52288921 -0.2850658  -0.36698984\n",
            " -0.17847011 -0.71833945 -0.45645671  0.69191986]\n"
          ],
          "name": "stdout"
        }
      ]
    },
    {
      "cell_type": "code",
      "metadata": {
        "id": "xoyJdlgZTbxQ",
        "colab": {
          "base_uri": "https://localhost:8080/",
          "height": 121
        },
        "outputId": "54606fda-8557-44bb-fc6d-13dbaa91b5e3"
      },
      "source": [
        "R = np.random.normal(6,2, (10,3))                     #Returns a random 10x3 matrix from NORMAL distribution with mean=6 and std=2\n",
        "print ( 'Mean of each column is:', R.mean(axis=0)  )\n",
        "print('\\n')\n",
        "print ( 'Mean of each row is:', '\\n', R.mean(axis=1)  )"
      ],
      "execution_count": null,
      "outputs": [
        {
          "output_type": "stream",
          "text": [
            "Mean of each column is: [6.05942682 6.46654977 5.02070482]\n",
            "\n",
            "\n",
            "Mean of each row is: \n",
            " [4.99281983 5.47803527 5.57267539 4.95484134 5.23434533 7.13628339\n",
            " 4.24868071 6.95151088 6.34332544 7.57642046]\n"
          ],
          "name": "stdout"
        }
      ]
    },
    {
      "cell_type": "code",
      "metadata": {
        "id": "yIPCLLNgUISu",
        "colab": {
          "base_uri": "https://localhost:8080/"
        },
        "outputId": "16efa35d-e7a0-4e53-bf02-c25ff5ad0f8b"
      },
      "source": [
        "np.random.randint(5, 12, 10)                        #Returns 10 random integers in [5,12)"
      ],
      "execution_count": null,
      "outputs": [
        {
          "output_type": "execute_result",
          "data": {
            "text/plain": [
              "array([ 5,  9,  5, 11, 11,  5,  5,  6, 11,  7])"
            ]
          },
          "metadata": {},
          "execution_count": 5
        }
      ]
    },
    {
      "cell_type": "code",
      "metadata": {
        "id": "AtKYlw_4e3ot"
      },
      "source": [],
      "execution_count": null,
      "outputs": []
    }
  ]
}