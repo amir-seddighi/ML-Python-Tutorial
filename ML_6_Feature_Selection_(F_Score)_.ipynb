{
  "nbformat": 4,
  "nbformat_minor": 0,
  "metadata": {
    "colab": {
      "provenance": []
    },
    "kernelspec": {
      "name": "python3",
      "display_name": "Python 3"
    }
  },
  "cells": [
    {
      "cell_type": "markdown",
      "metadata": {
        "id": "HJa8-Cn9nueg"
      },
      "source": [
        "#Develope a Multiple Linear Regression Model to predict students marks"
      ]
    },
    {
      "cell_type": "code",
      "metadata": {
        "id": "55Ulr3rqmP_l"
      },
      "source": [
        "import pandas as pd\n",
        "import matplotlib.pyplot as plt\n",
        "import numpy as np"
      ],
      "execution_count": null,
      "outputs": []
    },
    {
      "cell_type": "code",
      "metadata": {
        "id": "vkpdQOeraTQ9",
        "outputId": "79ed3193-d41a-43a1-8cc0-bb77c85c7123",
        "colab": {
          "base_uri": "https://localhost:8080/",
          "height": 74
        }
      },
      "source": [
        "from google.colab import files          #Upload Students2.csv from the \"Feature Selection\" folder of the course \n",
        "uploaded = files.upload()"
      ],
      "execution_count": null,
      "outputs": [
        {
          "output_type": "display_data",
          "data": {
            "text/plain": [
              "<IPython.core.display.HTML object>"
            ],
            "text/html": [
              "\n",
              "     <input type=\"file\" id=\"files-ed04c7bd-d1b5-460e-aa56-fe36b91774d3\" name=\"files[]\" multiple disabled\n",
              "        style=\"border:none\" />\n",
              "     <output id=\"result-ed04c7bd-d1b5-460e-aa56-fe36b91774d3\">\n",
              "      Upload widget is only available when the cell has been executed in the\n",
              "      current browser session. Please rerun this cell to enable.\n",
              "      </output>\n",
              "      <script>// Copyright 2017 Google LLC\n",
              "//\n",
              "// Licensed under the Apache License, Version 2.0 (the \"License\");\n",
              "// you may not use this file except in compliance with the License.\n",
              "// You may obtain a copy of the License at\n",
              "//\n",
              "//      http://www.apache.org/licenses/LICENSE-2.0\n",
              "//\n",
              "// Unless required by applicable law or agreed to in writing, software\n",
              "// distributed under the License is distributed on an \"AS IS\" BASIS,\n",
              "// WITHOUT WARRANTIES OR CONDITIONS OF ANY KIND, either express or implied.\n",
              "// See the License for the specific language governing permissions and\n",
              "// limitations under the License.\n",
              "\n",
              "/**\n",
              " * @fileoverview Helpers for google.colab Python module.\n",
              " */\n",
              "(function(scope) {\n",
              "function span(text, styleAttributes = {}) {\n",
              "  const element = document.createElement('span');\n",
              "  element.textContent = text;\n",
              "  for (const key of Object.keys(styleAttributes)) {\n",
              "    element.style[key] = styleAttributes[key];\n",
              "  }\n",
              "  return element;\n",
              "}\n",
              "\n",
              "// Max number of bytes which will be uploaded at a time.\n",
              "const MAX_PAYLOAD_SIZE = 100 * 1024;\n",
              "\n",
              "function _uploadFiles(inputId, outputId) {\n",
              "  const steps = uploadFilesStep(inputId, outputId);\n",
              "  const outputElement = document.getElementById(outputId);\n",
              "  // Cache steps on the outputElement to make it available for the next call\n",
              "  // to uploadFilesContinue from Python.\n",
              "  outputElement.steps = steps;\n",
              "\n",
              "  return _uploadFilesContinue(outputId);\n",
              "}\n",
              "\n",
              "// This is roughly an async generator (not supported in the browser yet),\n",
              "// where there are multiple asynchronous steps and the Python side is going\n",
              "// to poll for completion of each step.\n",
              "// This uses a Promise to block the python side on completion of each step,\n",
              "// then passes the result of the previous step as the input to the next step.\n",
              "function _uploadFilesContinue(outputId) {\n",
              "  const outputElement = document.getElementById(outputId);\n",
              "  const steps = outputElement.steps;\n",
              "\n",
              "  const next = steps.next(outputElement.lastPromiseValue);\n",
              "  return Promise.resolve(next.value.promise).then((value) => {\n",
              "    // Cache the last promise value to make it available to the next\n",
              "    // step of the generator.\n",
              "    outputElement.lastPromiseValue = value;\n",
              "    return next.value.response;\n",
              "  });\n",
              "}\n",
              "\n",
              "/**\n",
              " * Generator function which is called between each async step of the upload\n",
              " * process.\n",
              " * @param {string} inputId Element ID of the input file picker element.\n",
              " * @param {string} outputId Element ID of the output display.\n",
              " * @return {!Iterable<!Object>} Iterable of next steps.\n",
              " */\n",
              "function* uploadFilesStep(inputId, outputId) {\n",
              "  const inputElement = document.getElementById(inputId);\n",
              "  inputElement.disabled = false;\n",
              "\n",
              "  const outputElement = document.getElementById(outputId);\n",
              "  outputElement.innerHTML = '';\n",
              "\n",
              "  const pickedPromise = new Promise((resolve) => {\n",
              "    inputElement.addEventListener('change', (e) => {\n",
              "      resolve(e.target.files);\n",
              "    });\n",
              "  });\n",
              "\n",
              "  const cancel = document.createElement('button');\n",
              "  inputElement.parentElement.appendChild(cancel);\n",
              "  cancel.textContent = 'Cancel upload';\n",
              "  const cancelPromise = new Promise((resolve) => {\n",
              "    cancel.onclick = () => {\n",
              "      resolve(null);\n",
              "    };\n",
              "  });\n",
              "\n",
              "  // Wait for the user to pick the files.\n",
              "  const files = yield {\n",
              "    promise: Promise.race([pickedPromise, cancelPromise]),\n",
              "    response: {\n",
              "      action: 'starting',\n",
              "    }\n",
              "  };\n",
              "\n",
              "  cancel.remove();\n",
              "\n",
              "  // Disable the input element since further picks are not allowed.\n",
              "  inputElement.disabled = true;\n",
              "\n",
              "  if (!files) {\n",
              "    return {\n",
              "      response: {\n",
              "        action: 'complete',\n",
              "      }\n",
              "    };\n",
              "  }\n",
              "\n",
              "  for (const file of files) {\n",
              "    const li = document.createElement('li');\n",
              "    li.append(span(file.name, {fontWeight: 'bold'}));\n",
              "    li.append(span(\n",
              "        `(${file.type || 'n/a'}) - ${file.size} bytes, ` +\n",
              "        `last modified: ${\n",
              "            file.lastModifiedDate ? file.lastModifiedDate.toLocaleDateString() :\n",
              "                                    'n/a'} - `));\n",
              "    const percent = span('0% done');\n",
              "    li.appendChild(percent);\n",
              "\n",
              "    outputElement.appendChild(li);\n",
              "\n",
              "    const fileDataPromise = new Promise((resolve) => {\n",
              "      const reader = new FileReader();\n",
              "      reader.onload = (e) => {\n",
              "        resolve(e.target.result);\n",
              "      };\n",
              "      reader.readAsArrayBuffer(file);\n",
              "    });\n",
              "    // Wait for the data to be ready.\n",
              "    let fileData = yield {\n",
              "      promise: fileDataPromise,\n",
              "      response: {\n",
              "        action: 'continue',\n",
              "      }\n",
              "    };\n",
              "\n",
              "    // Use a chunked sending to avoid message size limits. See b/62115660.\n",
              "    let position = 0;\n",
              "    do {\n",
              "      const length = Math.min(fileData.byteLength - position, MAX_PAYLOAD_SIZE);\n",
              "      const chunk = new Uint8Array(fileData, position, length);\n",
              "      position += length;\n",
              "\n",
              "      const base64 = btoa(String.fromCharCode.apply(null, chunk));\n",
              "      yield {\n",
              "        response: {\n",
              "          action: 'append',\n",
              "          file: file.name,\n",
              "          data: base64,\n",
              "        },\n",
              "      };\n",
              "\n",
              "      let percentDone = fileData.byteLength === 0 ?\n",
              "          100 :\n",
              "          Math.round((position / fileData.byteLength) * 100);\n",
              "      percent.textContent = `${percentDone}% done`;\n",
              "\n",
              "    } while (position < fileData.byteLength);\n",
              "  }\n",
              "\n",
              "  // All done.\n",
              "  yield {\n",
              "    response: {\n",
              "      action: 'complete',\n",
              "    }\n",
              "  };\n",
              "}\n",
              "\n",
              "scope.google = scope.google || {};\n",
              "scope.google.colab = scope.google.colab || {};\n",
              "scope.google.colab._files = {\n",
              "  _uploadFiles,\n",
              "  _uploadFilesContinue,\n",
              "};\n",
              "})(self);\n",
              "</script> "
            ]
          },
          "metadata": {}
        },
        {
          "output_type": "stream",
          "name": "stdout",
          "text": [
            "Saving Students2.csv to Students2.csv\n"
          ]
        }
      ]
    },
    {
      "cell_type": "code",
      "metadata": {
        "id": "g6Ltj6Hqmd3w",
        "outputId": "9332c002-8f70-41d8-a39a-e1fd312cae71",
        "colab": {
          "base_uri": "https://localhost:8080/",
          "height": 206
        }
      },
      "source": [
        "marks = pd.read_csv('Students2.csv')\n",
        "marks.head()"
      ],
      "execution_count": null,
      "outputs": [
        {
          "output_type": "execute_result",
          "data": {
            "text/plain": [
              "   Hours  sHours  hoursplayed  income  distance  calories  Marks\n",
              "0      0       6            6     146         9      2491     34\n",
              "1      1       7            2     112         5      2303     36\n",
              "2      1       6            1      84         7      2475     33\n",
              "3      1       8            5     134         0      2282     39\n",
              "4      1       8            5     104         8      2359     42"
            ],
            "text/html": [
              "\n",
              "  <div id=\"df-d04148e5-3eb0-47c1-81c2-670a70c66bd3\">\n",
              "    <div class=\"colab-df-container\">\n",
              "      <div>\n",
              "<style scoped>\n",
              "    .dataframe tbody tr th:only-of-type {\n",
              "        vertical-align: middle;\n",
              "    }\n",
              "\n",
              "    .dataframe tbody tr th {\n",
              "        vertical-align: top;\n",
              "    }\n",
              "\n",
              "    .dataframe thead th {\n",
              "        text-align: right;\n",
              "    }\n",
              "</style>\n",
              "<table border=\"1\" class=\"dataframe\">\n",
              "  <thead>\n",
              "    <tr style=\"text-align: right;\">\n",
              "      <th></th>\n",
              "      <th>Hours</th>\n",
              "      <th>sHours</th>\n",
              "      <th>hoursplayed</th>\n",
              "      <th>income</th>\n",
              "      <th>distance</th>\n",
              "      <th>calories</th>\n",
              "      <th>Marks</th>\n",
              "    </tr>\n",
              "  </thead>\n",
              "  <tbody>\n",
              "    <tr>\n",
              "      <th>0</th>\n",
              "      <td>0</td>\n",
              "      <td>6</td>\n",
              "      <td>6</td>\n",
              "      <td>146</td>\n",
              "      <td>9</td>\n",
              "      <td>2491</td>\n",
              "      <td>34</td>\n",
              "    </tr>\n",
              "    <tr>\n",
              "      <th>1</th>\n",
              "      <td>1</td>\n",
              "      <td>7</td>\n",
              "      <td>2</td>\n",
              "      <td>112</td>\n",
              "      <td>5</td>\n",
              "      <td>2303</td>\n",
              "      <td>36</td>\n",
              "    </tr>\n",
              "    <tr>\n",
              "      <th>2</th>\n",
              "      <td>1</td>\n",
              "      <td>6</td>\n",
              "      <td>1</td>\n",
              "      <td>84</td>\n",
              "      <td>7</td>\n",
              "      <td>2475</td>\n",
              "      <td>33</td>\n",
              "    </tr>\n",
              "    <tr>\n",
              "      <th>3</th>\n",
              "      <td>1</td>\n",
              "      <td>8</td>\n",
              "      <td>5</td>\n",
              "      <td>134</td>\n",
              "      <td>0</td>\n",
              "      <td>2282</td>\n",
              "      <td>39</td>\n",
              "    </tr>\n",
              "    <tr>\n",
              "      <th>4</th>\n",
              "      <td>1</td>\n",
              "      <td>8</td>\n",
              "      <td>5</td>\n",
              "      <td>104</td>\n",
              "      <td>8</td>\n",
              "      <td>2359</td>\n",
              "      <td>42</td>\n",
              "    </tr>\n",
              "  </tbody>\n",
              "</table>\n",
              "</div>\n",
              "      <button class=\"colab-df-convert\" onclick=\"convertToInteractive('df-d04148e5-3eb0-47c1-81c2-670a70c66bd3')\"\n",
              "              title=\"Convert this dataframe to an interactive table.\"\n",
              "              style=\"display:none;\">\n",
              "        \n",
              "  <svg xmlns=\"http://www.w3.org/2000/svg\" height=\"24px\"viewBox=\"0 0 24 24\"\n",
              "       width=\"24px\">\n",
              "    <path d=\"M0 0h24v24H0V0z\" fill=\"none\"/>\n",
              "    <path d=\"M18.56 5.44l.94 2.06.94-2.06 2.06-.94-2.06-.94-.94-2.06-.94 2.06-2.06.94zm-11 1L8.5 8.5l.94-2.06 2.06-.94-2.06-.94L8.5 2.5l-.94 2.06-2.06.94zm10 10l.94 2.06.94-2.06 2.06-.94-2.06-.94-.94-2.06-.94 2.06-2.06.94z\"/><path d=\"M17.41 7.96l-1.37-1.37c-.4-.4-.92-.59-1.43-.59-.52 0-1.04.2-1.43.59L10.3 9.45l-7.72 7.72c-.78.78-.78 2.05 0 2.83L4 21.41c.39.39.9.59 1.41.59.51 0 1.02-.2 1.41-.59l7.78-7.78 2.81-2.81c.8-.78.8-2.07 0-2.86zM5.41 20L4 18.59l7.72-7.72 1.47 1.35L5.41 20z\"/>\n",
              "  </svg>\n",
              "      </button>\n",
              "      \n",
              "  <style>\n",
              "    .colab-df-container {\n",
              "      display:flex;\n",
              "      flex-wrap:wrap;\n",
              "      gap: 12px;\n",
              "    }\n",
              "\n",
              "    .colab-df-convert {\n",
              "      background-color: #E8F0FE;\n",
              "      border: none;\n",
              "      border-radius: 50%;\n",
              "      cursor: pointer;\n",
              "      display: none;\n",
              "      fill: #1967D2;\n",
              "      height: 32px;\n",
              "      padding: 0 0 0 0;\n",
              "      width: 32px;\n",
              "    }\n",
              "\n",
              "    .colab-df-convert:hover {\n",
              "      background-color: #E2EBFA;\n",
              "      box-shadow: 0px 1px 2px rgba(60, 64, 67, 0.3), 0px 1px 3px 1px rgba(60, 64, 67, 0.15);\n",
              "      fill: #174EA6;\n",
              "    }\n",
              "\n",
              "    [theme=dark] .colab-df-convert {\n",
              "      background-color: #3B4455;\n",
              "      fill: #D2E3FC;\n",
              "    }\n",
              "\n",
              "    [theme=dark] .colab-df-convert:hover {\n",
              "      background-color: #434B5C;\n",
              "      box-shadow: 0px 1px 3px 1px rgba(0, 0, 0, 0.15);\n",
              "      filter: drop-shadow(0px 1px 2px rgba(0, 0, 0, 0.3));\n",
              "      fill: #FFFFFF;\n",
              "    }\n",
              "  </style>\n",
              "\n",
              "      <script>\n",
              "        const buttonEl =\n",
              "          document.querySelector('#df-d04148e5-3eb0-47c1-81c2-670a70c66bd3 button.colab-df-convert');\n",
              "        buttonEl.style.display =\n",
              "          google.colab.kernel.accessAllowed ? 'block' : 'none';\n",
              "\n",
              "        async function convertToInteractive(key) {\n",
              "          const element = document.querySelector('#df-d04148e5-3eb0-47c1-81c2-670a70c66bd3');\n",
              "          const dataTable =\n",
              "            await google.colab.kernel.invokeFunction('convertToInteractive',\n",
              "                                                     [key], {});\n",
              "          if (!dataTable) return;\n",
              "\n",
              "          const docLinkHtml = 'Like what you see? Visit the ' +\n",
              "            '<a target=\"_blank\" href=https://colab.research.google.com/notebooks/data_table.ipynb>data table notebook</a>'\n",
              "            + ' to learn more about interactive tables.';\n",
              "          element.innerHTML = '';\n",
              "          dataTable['output_type'] = 'display_data';\n",
              "          await google.colab.output.renderOutput(dataTable, element);\n",
              "          const docLink = document.createElement('div');\n",
              "          docLink.innerHTML = docLinkHtml;\n",
              "          element.appendChild(docLink);\n",
              "        }\n",
              "      </script>\n",
              "    </div>\n",
              "  </div>\n",
              "  "
            ]
          },
          "metadata": {},
          "execution_count": 3
        }
      ]
    },
    {
      "cell_type": "code",
      "metadata": {
        "id": "k5I2s5LdmiFc"
      },
      "source": [
        "#Specify X (independant variables) and Y(predicted variable or target variable)\n",
        "X = marks.iloc[:, 0:-1]\n",
        "Y = marks.iloc[:, -1]"
      ],
      "execution_count": null,
      "outputs": []
    },
    {
      "cell_type": "code",
      "metadata": {
        "id": "HCwW0PNkm09B"
      },
      "source": [
        "#Train and Test split\n",
        "\n",
        "from sklearn.model_selection import train_test_split\n",
        "\n",
        "X_train, X_test, Y_train, Y_test = train_test_split(X, Y, test_size=0.4, random_state=1234)"
      ],
      "execution_count": null,
      "outputs": []
    },
    {
      "cell_type": "code",
      "metadata": {
        "id": "QMPGg1azm3zt"
      },
      "source": [
        "from sklearn.linear_model import LinearRegression"
      ],
      "execution_count": null,
      "outputs": []
    },
    {
      "cell_type": "code",
      "metadata": {
        "id": "fRi1aknWm-m0",
        "outputId": "7bab96c1-7985-402c-8477-332603556823",
        "colab": {
          "base_uri": "https://localhost:8080/"
        }
      },
      "source": [
        "mark_regressor = LinearRegression()                  #Select the regressor (Model) to be LinearRegression\n",
        "mark_regressor.fit(X_train, Y_train)                 #Now train your model on X_train set to predict the Y_train set"
      ],
      "execution_count": null,
      "outputs": [
        {
          "output_type": "execute_result",
          "data": {
            "text/plain": [
              "LinearRegression()"
            ]
          },
          "metadata": {},
          "execution_count": 7
        }
      ]
    },
    {
      "cell_type": "code",
      "metadata": {
        "id": "f_Zl2JPinfU-"
      },
      "source": [
        "Y_predicted = mark_regressor.predict(X_test)         #Predict the values of Y_test set by regressing against X_test set"
      ],
      "execution_count": null,
      "outputs": []
    },
    {
      "cell_type": "code",
      "metadata": {
        "id": "S71O6eDGnkGx",
        "outputId": "81849863-a8cf-419e-c2c3-b2df0bb0a1d2",
        "colab": {
          "base_uri": "https://localhost:8080/"
        }
      },
      "source": [
        "from sklearn.metrics import mean_squared_error\n",
        "\n",
        "MSE = mean_squared_error(Y_test, Y_predicted)\n",
        "MSE"
      ],
      "execution_count": null,
      "outputs": [
        {
          "output_type": "execute_result",
          "data": {
            "text/plain": [
              "48.751210615983545"
            ]
          },
          "metadata": {},
          "execution_count": 9
        }
      ]
    },
    {
      "cell_type": "code",
      "metadata": {
        "id": "cvzQtvyFrB4c",
        "outputId": "951a13d1-8dd2-4d71-ac96-a6259dc61aae",
        "colab": {
          "base_uri": "https://localhost:8080/"
        }
      },
      "source": [
        "mark_regressor.score(X_test,Y_test)   # R-Square"
      ],
      "execution_count": null,
      "outputs": [
        {
          "output_type": "execute_result",
          "data": {
            "text/plain": [
              "0.8427485982415691"
            ]
          },
          "metadata": {},
          "execution_count": 10
        }
      ]
    },
    {
      "cell_type": "markdown",
      "metadata": {
        "id": "72oL4QQGn4Lj"
      },
      "source": [
        "#F-Score& P-Value Features Selection Method\n",
        "Uaing f-regression, you can find P-values of variables, fr(X,Y) , and select variables with low P-values only"
      ]
    },
    {
      "cell_type": "code",
      "metadata": {
        "id": "EXuPoQI0n6a1"
      },
      "source": [
        "from sklearn.feature_selection import f_regression as fr"
      ],
      "execution_count": null,
      "outputs": []
    },
    {
      "cell_type": "markdown",
      "source": [
        "![f_regression.png](data:image/png;base64,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)"
      ],
      "metadata": {
        "id": "By7VkCAPfNG_"
      }
    },
    {
      "cell_type": "code",
      "metadata": {
        "id": "bEVB0j7goB5g",
        "outputId": "bfb010cb-6ea4-45d5-948d-32e293c29c4f",
        "colab": {
          "base_uri": "https://localhost:8080/"
        }
      },
      "source": [
        "result = fr(X, Y)\n",
        "result"
      ],
      "execution_count": null,
      "outputs": [
        {
          "output_type": "execute_result",
          "data": {
            "text/plain": [
              "(array([1.41905913e+02, 4.57019756e+00, 1.44882087e-03, 1.59990513e-01,\n",
              "        3.16606568e-03, 4.04208927e-01]),\n",
              " array([1.77038466e-12, 4.14028344e-02, 9.69907241e-01, 6.92200477e-01,\n",
              "        9.55528076e-01, 5.30086171e-01]))"
            ]
          },
          "metadata": {},
          "execution_count": 7
        }
      ]
    },
    {
      "cell_type": "code",
      "metadata": {
        "id": "QPkNubJNqBNm",
        "outputId": "d07b2703-20cd-4268-c7c9-88abc49d7eeb",
        "colab": {
          "base_uri": "https://localhost:8080/"
        }
      },
      "source": [
        "F_Score = result[0]\n",
        "P_Value = result[1]\n",
        "\n",
        "print('P-Values are:',P_Value,'\\n')\n",
        "print('F-Scores are:',F_Score)"
      ],
      "execution_count": null,
      "outputs": [
        {
          "output_type": "stream",
          "name": "stdout",
          "text": [
            "P-Values are: [1.77038466e-12 4.14028344e-02 9.69907241e-01 6.92200477e-01\n",
            " 9.55528076e-01 5.30086171e-01] \n",
            "\n",
            "F-Scores are: [1.41905913e+02 4.57019756e+00 1.44882087e-03 1.59990513e-01\n",
            " 3.16606568e-03 4.04208927e-01]\n"
          ]
        }
      ]
    },
    {
      "cell_type": "code",
      "metadata": {
        "id": "AOV2aAnkq3RO",
        "outputId": "fd991483-ec54-4a22-df90-d19f2a75f9a0",
        "colab": {
          "base_uri": "https://localhost:8080/"
        }
      },
      "source": [
        "columns = list(X.columns)\n",
        "\n",
        "i=int(-1)\n",
        "for c in columns:\n",
        " i+=1\n",
        " print(c,':', P_Value[i],',', F_Score[i]) \n",
        " #Based on P-Values shown below, we pick \"Hours\" and \"sHours\" since for them P-Value<0.05 and drop the other features"
      ],
      "execution_count": null,
      "outputs": [
        {
          "output_type": "stream",
          "name": "stdout",
          "text": [
            "Hours : 1.7703846633368096e-12 , 141.90591265093306\n",
            "sHours : 0.04140283437892134 , 4.570197562174471\n",
            "hoursplayed : 0.9699072414603728 , 0.001448820873055793\n",
            "income : 0.6922004770304084 , 0.15999051253393012\n",
            "distance : 0.9555280755289408 , 0.0031660656839195517\n",
            "calories : 0.5300861708497477 , 0.40420892706591777\n"
          ]
        }
      ]
    },
    {
      "cell_type": "code",
      "source": [
        "#if you look at the correlation of featrues with the target variable, you will find them consistent with the P-values obtained above.\n",
        "#After all, that's how the f-regression works  --->  It calcuates the cross correlation between each of the features and target variable and then converts to P-values\n",
        "\n",
        "correlation = marks.corr()\n",
        "correlation.style.background_gradient(cmap='coolwarm')"
      ],
      "metadata": {
        "colab": {
          "base_uri": "https://localhost:8080/",
          "height": 269
        },
        "id": "l_nt7SqugTPG",
        "outputId": "daa1624b-4622-4b1e-dedf-a3051baff07d"
      },
      "execution_count": null,
      "outputs": [
        {
          "output_type": "execute_result",
          "data": {
            "text/plain": [
              "<pandas.io.formats.style.Styler at 0x7feec5c58a00>"
            ],
            "text/html": [
              "<style type=\"text/css\">\n",
              "#T_cb216_row0_col0, #T_cb216_row1_col1, #T_cb216_row2_col2, #T_cb216_row3_col3, #T_cb216_row4_col4, #T_cb216_row5_col5, #T_cb216_row6_col6 {\n",
              "  background-color: #b40426;\n",
              "  color: #f1f1f1;\n",
              "}\n",
              "#T_cb216_row0_col1 {\n",
              "  background-color: #9dbdff;\n",
              "  color: #000000;\n",
              "}\n",
              "#T_cb216_row0_col2, #T_cb216_row4_col6 {\n",
              "  background-color: #5875e1;\n",
              "  color: #f1f1f1;\n",
              "}\n",
              "#T_cb216_row0_col3 {\n",
              "  background-color: #6f92f3;\n",
              "  color: #f1f1f1;\n",
              "}\n",
              "#T_cb216_row0_col4 {\n",
              "  background-color: #8fb1fe;\n",
              "  color: #000000;\n",
              "}\n",
              "#T_cb216_row0_col5 {\n",
              "  background-color: #80a3fa;\n",
              "  color: #f1f1f1;\n",
              "}\n",
              "#T_cb216_row0_col6, #T_cb216_row6_col0 {\n",
              "  background-color: #cf453c;\n",
              "  color: #f1f1f1;\n",
              "}\n",
              "#T_cb216_row1_col0 {\n",
              "  background-color: #82a6fb;\n",
              "  color: #f1f1f1;\n",
              "}\n",
              "#T_cb216_row1_col2 {\n",
              "  background-color: #7093f3;\n",
              "  color: #f1f1f1;\n",
              "}\n",
              "#T_cb216_row1_col3 {\n",
              "  background-color: #bbd1f8;\n",
              "  color: #000000;\n",
              "}\n",
              "#T_cb216_row1_col4, #T_cb216_row4_col1 {\n",
              "  background-color: #3e51c5;\n",
              "  color: #f1f1f1;\n",
              "}\n",
              "#T_cb216_row1_col5 {\n",
              "  background-color: #516ddb;\n",
              "  color: #f1f1f1;\n",
              "}\n",
              "#T_cb216_row1_col6 {\n",
              "  background-color: #ccd9ed;\n",
              "  color: #000000;\n",
              "}\n",
              "#T_cb216_row2_col0, #T_cb216_row2_col4 {\n",
              "  background-color: #6788ee;\n",
              "  color: #f1f1f1;\n",
              "}\n",
              "#T_cb216_row2_col1 {\n",
              "  background-color: #9abbff;\n",
              "  color: #000000;\n",
              "}\n",
              "#T_cb216_row2_col3 {\n",
              "  background-color: #93b5fe;\n",
              "  color: #000000;\n",
              "}\n",
              "#T_cb216_row2_col5, #T_cb216_row3_col1 {\n",
              "  background-color: #aac7fd;\n",
              "  color: #000000;\n",
              "}\n",
              "#T_cb216_row2_col6 {\n",
              "  background-color: #5d7ce6;\n",
              "  color: #f1f1f1;\n",
              "}\n",
              "#T_cb216_row3_col0, #T_cb216_row3_col5, #T_cb216_row4_col2, #T_cb216_row5_col1, #T_cb216_row5_col3, #T_cb216_row5_col4, #T_cb216_row5_col6 {\n",
              "  background-color: #3b4cc0;\n",
              "  color: #f1f1f1;\n",
              "}\n",
              "#T_cb216_row3_col2 {\n",
              "  background-color: #536edd;\n",
              "  color: #f1f1f1;\n",
              "}\n",
              "#T_cb216_row3_col4 {\n",
              "  background-color: #bcd2f7;\n",
              "  color: #000000;\n",
              "}\n",
              "#T_cb216_row3_col6, #T_cb216_row4_col0 {\n",
              "  background-color: #7295f4;\n",
              "  color: #f1f1f1;\n",
              "}\n",
              "#T_cb216_row4_col3 {\n",
              "  background-color: #cbd8ee;\n",
              "  color: #000000;\n",
              "}\n",
              "#T_cb216_row4_col5 {\n",
              "  background-color: #506bda;\n",
              "  color: #f1f1f1;\n",
              "}\n",
              "#T_cb216_row5_col0 {\n",
              "  background-color: #4b64d5;\n",
              "  color: #f1f1f1;\n",
              "}\n",
              "#T_cb216_row5_col2 {\n",
              "  background-color: #6e90f2;\n",
              "  color: #f1f1f1;\n",
              "}\n",
              "#T_cb216_row6_col1 {\n",
              "  background-color: #dadce0;\n",
              "  color: #000000;\n",
              "}\n",
              "#T_cb216_row6_col2 {\n",
              "  background-color: #4c66d6;\n",
              "  color: #f1f1f1;\n",
              "}\n",
              "#T_cb216_row6_col3 {\n",
              "  background-color: #9fbfff;\n",
              "  color: #000000;\n",
              "}\n",
              "#T_cb216_row6_col4 {\n",
              "  background-color: #7396f5;\n",
              "  color: #f1f1f1;\n",
              "}\n",
              "#T_cb216_row6_col5 {\n",
              "  background-color: #6c8ff1;\n",
              "  color: #f1f1f1;\n",
              "}\n",
              "</style>\n",
              "<table id=\"T_cb216_\" class=\"dataframe\">\n",
              "  <thead>\n",
              "    <tr>\n",
              "      <th class=\"blank level0\" >&nbsp;</th>\n",
              "      <th class=\"col_heading level0 col0\" >Hours</th>\n",
              "      <th class=\"col_heading level0 col1\" >sHours</th>\n",
              "      <th class=\"col_heading level0 col2\" >hoursplayed</th>\n",
              "      <th class=\"col_heading level0 col3\" >income</th>\n",
              "      <th class=\"col_heading level0 col4\" >distance</th>\n",
              "      <th class=\"col_heading level0 col5\" >calories</th>\n",
              "      <th class=\"col_heading level0 col6\" >Marks</th>\n",
              "    </tr>\n",
              "  </thead>\n",
              "  <tbody>\n",
              "    <tr>\n",
              "      <th id=\"T_cb216_level0_row0\" class=\"row_heading level0 row0\" >Hours</th>\n",
              "      <td id=\"T_cb216_row0_col0\" class=\"data row0 col0\" >1.000000</td>\n",
              "      <td id=\"T_cb216_row0_col1\" class=\"data row0 col1\" >0.133596</td>\n",
              "      <td id=\"T_cb216_row0_col2\" class=\"data row0 col2\" >0.047286</td>\n",
              "      <td id=\"T_cb216_row0_col3\" class=\"data row0 col3\" >-0.109228</td>\n",
              "      <td id=\"T_cb216_row0_col4\" class=\"data row0 col4\" >0.082932</td>\n",
              "      <td id=\"T_cb216_row0_col5\" class=\"data row0 col5\" >-0.045989</td>\n",
              "      <td id=\"T_cb216_row0_col6\" class=\"data row0 col6\" >0.913894</td>\n",
              "    </tr>\n",
              "    <tr>\n",
              "      <th id=\"T_cb216_level0_row1\" class=\"row_heading level0 row1\" >sHours</th>\n",
              "      <td id=\"T_cb216_row1_col0\" class=\"data row1 col0\" >0.133596</td>\n",
              "      <td id=\"T_cb216_row1_col1\" class=\"data row1 col1\" >1.000000</td>\n",
              "      <td id=\"T_cb216_row1_col2\" class=\"data row1 col2\" >0.123567</td>\n",
              "      <td id=\"T_cb216_row1_col3\" class=\"data row1 col3\" >0.182407</td>\n",
              "      <td id=\"T_cb216_row1_col4\" class=\"data row1 col4\" >-0.212104</td>\n",
              "      <td id=\"T_cb216_row1_col5\" class=\"data row1 col5\" >-0.228707</td>\n",
              "      <td id=\"T_cb216_row1_col6\" class=\"data row1 col6\" >0.374591</td>\n",
              "    </tr>\n",
              "    <tr>\n",
              "      <th id=\"T_cb216_level0_row2\" class=\"row_heading level0 row2\" >hoursplayed</th>\n",
              "      <td id=\"T_cb216_row2_col0\" class=\"data row2 col0\" >0.047286</td>\n",
              "      <td id=\"T_cb216_row2_col1\" class=\"data row2 col1\" >0.123567</td>\n",
              "      <td id=\"T_cb216_row2_col2\" class=\"data row2 col2\" >1.000000</td>\n",
              "      <td id=\"T_cb216_row2_col3\" class=\"data row2 col3\" >0.028436</td>\n",
              "      <td id=\"T_cb216_row2_col4\" class=\"data row2 col4\" >-0.055723</td>\n",
              "      <td id=\"T_cb216_row2_col5\" class=\"data row2 col5\" >0.114584</td>\n",
              "      <td id=\"T_cb216_row2_col6\" class=\"data row2 col6\" >0.007193</td>\n",
              "    </tr>\n",
              "    <tr>\n",
              "      <th id=\"T_cb216_level0_row3\" class=\"row_heading level0 row3\" >income</th>\n",
              "      <td id=\"T_cb216_row3_col0\" class=\"data row3 col0\" >-0.109228</td>\n",
              "      <td id=\"T_cb216_row3_col1\" class=\"data row3 col1\" >0.182407</td>\n",
              "      <td id=\"T_cb216_row3_col2\" class=\"data row3 col2\" >0.028436</td>\n",
              "      <td id=\"T_cb216_row3_col3\" class=\"data row3 col3\" >1.000000</td>\n",
              "      <td id=\"T_cb216_row3_col4\" class=\"data row3 col4\" >0.247844</td>\n",
              "      <td id=\"T_cb216_row3_col5\" class=\"data row3 col5\" >-0.328160</td>\n",
              "      <td id=\"T_cb216_row3_col6\" class=\"data row3 col6\" >0.075376</td>\n",
              "    </tr>\n",
              "    <tr>\n",
              "      <th id=\"T_cb216_level0_row4\" class=\"row_heading level0 row4\" >distance</th>\n",
              "      <td id=\"T_cb216_row4_col0\" class=\"data row4 col0\" >0.082932</td>\n",
              "      <td id=\"T_cb216_row4_col1\" class=\"data row4 col1\" >-0.212104</td>\n",
              "      <td id=\"T_cb216_row4_col2\" class=\"data row4 col2\" >-0.055723</td>\n",
              "      <td id=\"T_cb216_row4_col3\" class=\"data row4 col3\" >0.247844</td>\n",
              "      <td id=\"T_cb216_row4_col4\" class=\"data row4 col4\" >1.000000</td>\n",
              "      <td id=\"T_cb216_row4_col5\" class=\"data row4 col5\" >-0.230818</td>\n",
              "      <td id=\"T_cb216_row4_col6\" class=\"data row4 col6\" >-0.010633</td>\n",
              "    </tr>\n",
              "    <tr>\n",
              "      <th id=\"T_cb216_level0_row5\" class=\"row_heading level0 row5\" >calories</th>\n",
              "      <td id=\"T_cb216_row5_col0\" class=\"data row5 col0\" >-0.045989</td>\n",
              "      <td id=\"T_cb216_row5_col1\" class=\"data row5 col1\" >-0.228707</td>\n",
              "      <td id=\"T_cb216_row5_col2\" class=\"data row5 col2\" >0.114584</td>\n",
              "      <td id=\"T_cb216_row5_col3\" class=\"data row5 col3\" >-0.328160</td>\n",
              "      <td id=\"T_cb216_row5_col4\" class=\"data row5 col4\" >-0.230818</td>\n",
              "      <td id=\"T_cb216_row5_col5\" class=\"data row5 col5\" >1.000000</td>\n",
              "      <td id=\"T_cb216_row5_col6\" class=\"data row5 col6\" >-0.119292</td>\n",
              "    </tr>\n",
              "    <tr>\n",
              "      <th id=\"T_cb216_level0_row6\" class=\"row_heading level0 row6\" >Marks</th>\n",
              "      <td id=\"T_cb216_row6_col0\" class=\"data row6 col0\" >0.913894</td>\n",
              "      <td id=\"T_cb216_row6_col1\" class=\"data row6 col1\" >0.374591</td>\n",
              "      <td id=\"T_cb216_row6_col2\" class=\"data row6 col2\" >0.007193</td>\n",
              "      <td id=\"T_cb216_row6_col3\" class=\"data row6 col3\" >0.075376</td>\n",
              "      <td id=\"T_cb216_row6_col4\" class=\"data row6 col4\" >-0.010633</td>\n",
              "      <td id=\"T_cb216_row6_col5\" class=\"data row6 col5\" >-0.119292</td>\n",
              "      <td id=\"T_cb216_row6_col6\" class=\"data row6 col6\" >1.000000</td>\n",
              "    </tr>\n",
              "  </tbody>\n",
              "</table>\n"
            ]
          },
          "metadata": {},
          "execution_count": 10
        }
      ]
    },
    {
      "cell_type": "code",
      "source": [
        "import statsmodels.api as sm\n",
        "\n",
        "X2 = sm.add_constant(X) # adding a constant (intercept)\n",
        "model = sm.OLS(Y, X2)\n",
        "my_regressor = model.fit()\n",
        "print(my_regressor.summary())"
      ],
      "metadata": {
        "colab": {
          "base_uri": "https://localhost:8080/"
        },
        "id": "MVRuhO1TUgT6",
        "outputId": "4995eba1-4d3e-4081-c796-99149a66dd7d"
      },
      "execution_count": null,
      "outputs": [
        {
          "output_type": "stream",
          "name": "stderr",
          "text": [
            "/usr/local/lib/python3.7/dist-packages/statsmodels/tools/_testing.py:19: FutureWarning: pandas.util.testing is deprecated. Use the functions in the public API at pandas.testing instead.\n",
            "  import pandas.util.testing as tm\n"
          ]
        },
        {
          "output_type": "stream",
          "name": "stdout",
          "text": [
            "                            OLS Regression Results                            \n",
            "==============================================================================\n",
            "Dep. Variable:                  Marks   R-squared:                       0.927\n",
            "Model:                            OLS   Adj. R-squared:                  0.908\n",
            "Method:                 Least Squares   F-statistic:                     48.89\n",
            "Date:                Wed, 27 Apr 2022   Prob (F-statistic):           5.95e-12\n",
            "Time:                        04:45:59   Log-Likelihood:                -89.006\n",
            "No. Observations:                  30   AIC:                             192.0\n",
            "Df Residuals:                      23   BIC:                             201.8\n",
            "Df Model:                           6                                         \n",
            "Covariance Type:            nonrobust                                         \n",
            "===============================================================================\n",
            "                  coef    std err          t      P>|t|      [0.025      0.975]\n",
            "-------------------------------------------------------------------------------\n",
            "const          -5.3061     15.763     -0.337      0.739     -37.914      27.302\n",
            "Hours           5.0806      0.323     15.711      0.000       4.412       5.750\n",
            "sHours          4.1996      1.206      3.481      0.002       1.704       6.695\n",
            "hoursplayed    -0.7351      0.571     -1.288      0.211      -1.916       0.446\n",
            "income          0.1125      0.043      2.592      0.016       0.023       0.202\n",
            "distance       -0.4258      0.330     -1.290      0.210      -1.109       0.257\n",
            "calories        0.0010      0.004      0.253      0.803      -0.007       0.009\n",
            "==============================================================================\n",
            "Omnibus:                        3.592   Durbin-Watson:                   2.212\n",
            "Prob(Omnibus):                  0.166   Jarque-Bera (JB):                2.099\n",
            "Skew:                           0.483   Prob(JB):                        0.350\n",
            "Kurtosis:                       3.863   Cond. No.                     4.02e+04\n",
            "==============================================================================\n",
            "\n",
            "Warnings:\n",
            "[1] Standard Errors assume that the covariance matrix of the errors is correctly specified.\n",
            "[2] The condition number is large, 4.02e+04. This might indicate that there are\n",
            "strong multicollinearity or other numerical problems.\n"
          ]
        },
        {
          "output_type": "stream",
          "name": "stderr",
          "text": [
            "/usr/local/lib/python3.7/dist-packages/statsmodels/tsa/tsatools.py:117: FutureWarning: In a future version of pandas all arguments of concat except for the argument 'objs' will be keyword-only\n",
            "  x = pd.concat(x[::order], 1)\n"
          ]
        }
      ]
    },
    {
      "cell_type": "markdown",
      "metadata": {
        "id": "fotLKsJVtO-h"
      },
      "source": [
        "**Drop features with high P-values and run the model again**"
      ]
    },
    {
      "cell_type": "code",
      "metadata": {
        "id": "RKnejX7SsHtX"
      },
      "source": [
        "#Specify X (independant variables) and Y(predicted variable or target variable)\n",
        "X_train_FS = X_train [['Hours', 'sHours']]\n",
        "X_test_FS = X_test [['Hours', 'sHours']]"
      ],
      "execution_count": null,
      "outputs": []
    },
    {
      "cell_type": "code",
      "metadata": {
        "id": "2JqFTiodt7JW"
      },
      "source": [
        "mark_regressor = LinearRegression()                  #Select the regressor (Model) to be LinearRegression\n",
        "mark_regressor.fit(X_train_FS, Y_train)                 #Now train your model on X_train set to predict the Y_train set\n",
        "Y_predicted_FS = mark_regressor.predict(X_test_FS)         #Predict the values of Y_test set by regressing against X_test set"
      ],
      "execution_count": null,
      "outputs": []
    },
    {
      "cell_type": "code",
      "metadata": {
        "id": "06ek11htuB3s",
        "outputId": "50855032-b747-4f68-ef2d-177bdd88c6e9",
        "colab": {
          "base_uri": "https://localhost:8080/",
          "height": 34
        }
      },
      "source": [
        "from sklearn.metrics import mean_squared_error\n",
        "\n",
        "MSE_FS = mean_squared_error(Y_test, Y_predicted_FS)\n",
        "MSE_FS\n",
        "#The MSE_FS is smaller than MSE because the new model has only the featrues with low P-Values"
      ],
      "execution_count": null,
      "outputs": [
        {
          "output_type": "execute_result",
          "data": {
            "text/plain": [
              "25.981624010552082"
            ]
          },
          "metadata": {
            "tags": []
          },
          "execution_count": 21
        }
      ]
    },
    {
      "cell_type": "code",
      "metadata": {
        "id": "86e5bs_7rZgr",
        "outputId": "f272ee04-3562-459d-f47b-545e3cd28230",
        "colab": {
          "base_uri": "https://localhost:8080/",
          "height": 34
        }
      },
      "source": [
        "mark_regressor.score(X_test_FS,Y_test)   # R-Square"
      ],
      "execution_count": null,
      "outputs": [
        {
          "output_type": "execute_result",
          "data": {
            "text/plain": [
              "0.9161939417709495"
            ]
          },
          "metadata": {
            "tags": []
          },
          "execution_count": 22
        }
      ]
    },
    {
      "cell_type": "markdown",
      "metadata": {
        "id": "NLna4BgbvK6d"
      },
      "source": [
        "#\"SelectKBest\" Features Selection Method\n",
        "SelectKBest automats the f-regression method discussed above and picks the variables with lowest P-values"
      ]
    },
    {
      "cell_type": "code",
      "metadata": {
        "id": "a6elaZuCGijq",
        "colab": {
          "base_uri": "https://localhost:8080/"
        },
        "outputId": "1af73d0a-e001-4c0e-ed04-b3e80b0619ba"
      },
      "source": [
        "from sklearn.feature_selection import SelectKBest, f_regression\n",
        "\n",
        "Selecor_KBest = SelectKBest(score_func = f_regression, k=3) #This selector would use f_regressor to pick top 3 features\n",
        "x_KBest = Selecor_KBest.fit_transform(X,Y)\n",
        "x_KBest"
      ],
      "execution_count": null,
      "outputs": [
        {
          "output_type": "execute_result",
          "data": {
            "text/plain": [
              "array([[   0,    6, 2491],\n",
              "       [   1,    7, 2303],\n",
              "       [   1,    6, 2475],\n",
              "       [   1,    8, 2282],\n",
              "       [   1,    8, 2359],\n",
              "       [   2,    8, 2354],\n",
              "       [   2,    6, 2943],\n",
              "       [   3,    6, 2119],\n",
              "       [   3,    7, 2511],\n",
              "       [   3,    7, 2666],\n",
              "       [   3,    8, 2934],\n",
              "       [   4,    8, 2838],\n",
              "       [   4,    7, 2102],\n",
              "       [   4,    7, 2560],\n",
              "       [   5,    8, 2068],\n",
              "       [   5,    6, 2541],\n",
              "       [   6,    6, 2690],\n",
              "       [   6,    7, 2956],\n",
              "       [   7,    8, 2239],\n",
              "       [   7,    8, 2703],\n",
              "       [   7,    6, 2603],\n",
              "       [   7,    6, 2031],\n",
              "       [   8,    7, 2885],\n",
              "       [   8,    8, 2153],\n",
              "       [   9,    8, 2384],\n",
              "       [   9,    5, 2882],\n",
              "       [   9,    8, 2271],\n",
              "       [  10,    8, 2264],\n",
              "       [  10,    8, 2522],\n",
              "       [  11,    7, 2279]])"
            ]
          },
          "metadata": {},
          "execution_count": 18
        }
      ]
    },
    {
      "cell_type": "code",
      "source": [
        "Selecor_KBest.get_support(indices=True)"
      ],
      "metadata": {
        "colab": {
          "base_uri": "https://localhost:8080/"
        },
        "id": "i6r6DYPR5zro",
        "outputId": "21591b32-6936-4805-c801-a1a8fd41371c"
      },
      "execution_count": null,
      "outputs": [
        {
          "output_type": "execute_result",
          "data": {
            "text/plain": [
              "array([0, 1, 5])"
            ]
          },
          "metadata": {},
          "execution_count": 20
        }
      ]
    },
    {
      "cell_type": "code",
      "metadata": {
        "id": "BKbO6csrJGVB",
        "outputId": "b78a81d5-957d-4705-bf65-23041948e077",
        "colab": {
          "base_uri": "https://localhost:8080/",
          "height": 35
        }
      },
      "source": [
        "columns = Selecor_KBest.get_support(indices=True) #This gives the index number of selected features\n",
        "#Selected_columns = X.columns[columns]\n",
        "Selected_columns = X.columns[columns].tolist()\n",
        "Selected_columns"
      ],
      "execution_count": null,
      "outputs": [
        {
          "output_type": "execute_result",
          "data": {
            "text/plain": [
              "['Hours', 'sHours', 'calories']"
            ]
          },
          "metadata": {
            "tags": []
          },
          "execution_count": 95
        }
      ]
    },
    {
      "cell_type": "code",
      "metadata": {
        "id": "ee4itz4KHxRt",
        "outputId": "6ea00992-e702-4c7d-9482-55e9db683ab6",
        "colab": {
          "base_uri": "https://localhost:8080/",
          "height": 121
        }
      },
      "source": [
        "#Let's see the F-Score and P-Values of the features to verify they are the same as previous part\n",
        "F_Score = Selecor_KBest.scores_\n",
        "P_Value = Selecor_KBest.pvalues_\n",
        "\n",
        "\n",
        "columns = list(X.columns)\n",
        "\n",
        "i=int(-1)\n",
        "for c in columns:\n",
        " i+=1\n",
        " print(c,':', P_Value[i],',', F_Score[i]) \n",
        " #Based on P-Values shown below, we pick \"Hours\" and \"sHours\" since for them P-Value<0.05 and drop the other features"
      ],
      "execution_count": null,
      "outputs": [
        {
          "output_type": "stream",
          "text": [
            "Hours : 1.7703846633368096e-12 , 141.90591265093306\n",
            "sHours : 0.04140283437892134 , 4.570197562174471\n",
            "hoursplayed : 0.9699072414603728 , 0.001448820873055793\n",
            "income : 0.6922004770304084 , 0.15999051253393012\n",
            "distance : 0.9555280755289408 , 0.0031660656839195517\n",
            "calories : 0.5300861708497477 , 0.40420892706591777\n"
          ],
          "name": "stdout"
        }
      ]
    },
    {
      "cell_type": "markdown",
      "metadata": {
        "id": "UMj7jL_VKyJP"
      },
      "source": [
        "#\"SelectPercentile\" Features Selection Method"
      ]
    },
    {
      "cell_type": "code",
      "metadata": {
        "id": "jn9O_ctmKyS5"
      },
      "source": [
        "from sklearn.feature_selection import  SelectPercentile, f_regression \n",
        "\n",
        "Selecor_Percentile = SelectPercentile(score_func = f_regression, percentile=50) #This selector would use f_regressor to pick top 50 Percentile of the features\n",
        "x_Percentile = Selecor_Percentile.fit_transform(X,Y)\n",
        "#x_Percentile"
      ],
      "execution_count": null,
      "outputs": []
    },
    {
      "cell_type": "code",
      "metadata": {
        "id": "hNBhaETlK580",
        "outputId": "5338faec-8e02-464d-b21b-dd4d46adc944",
        "colab": {
          "base_uri": "https://localhost:8080/",
          "height": 35
        }
      },
      "source": [
        "columns = Selecor_Percentile.get_support(indices=True) #This gives the index number of selected features\n",
        "#Selected_columns = X.columns[columns]\n",
        "Selected_columns = X.columns[columns].tolist()\n",
        "Selected_columns"
      ],
      "execution_count": null,
      "outputs": [
        {
          "output_type": "execute_result",
          "data": {
            "text/plain": [
              "['Hours', 'sHours', 'calories']"
            ]
          },
          "metadata": {
            "tags": []
          },
          "execution_count": 97
        }
      ]
    },
    {
      "cell_type": "code",
      "metadata": {
        "id": "9uLd1jbILiop",
        "outputId": "ee113db4-1d1c-4623-f4d6-56d16f98ff67",
        "colab": {
          "base_uri": "https://localhost:8080/",
          "height": 121
        }
      },
      "source": [
        "#Let's see the F-Score and P-Values of the features to verify they are the same as previous part\n",
        "F_Score = Selecor_Percentile.scores_\n",
        "P_Value = Selecor_Percentile.pvalues_\n",
        "\n",
        "\n",
        "columns = list(X.columns)\n",
        "\n",
        "i=int(-1)\n",
        "for c in columns:\n",
        " i+=1\n",
        " print(c,':', P_Value[i],',', F_Score[i]) \n",
        " #Based on P-Values shown below, we pick \"Hours\" and \"sHours\" since for them P-Value<0.05 and drop the other features"
      ],
      "execution_count": null,
      "outputs": [
        {
          "output_type": "stream",
          "text": [
            "Hours : 1.7703846633368096e-12 , 141.90591265093306\n",
            "sHours : 0.04140283437892134 , 4.570197562174471\n",
            "hoursplayed : 0.9699072414603728 , 0.001448820873055793\n",
            "income : 0.6922004770304084 , 0.15999051253393012\n",
            "distance : 0.9555280755289408 , 0.0031660656839195517\n",
            "calories : 0.5300861708497477 , 0.40420892706591777\n"
          ],
          "name": "stdout"
        }
      ]
    },
    {
      "cell_type": "markdown",
      "metadata": {
        "id": "WiEVLClbLliy"
      },
      "source": [
        "#\"Generic Univariate Select\" Features Selection Method\n",
        "\n",
        "This method is the most commonly used"
      ]
    },
    {
      "cell_type": "code",
      "metadata": {
        "id": "TdMvbTZQLpiI"
      },
      "source": [
        "from sklearn.feature_selection import  GenericUnivariateSelect, f_regression  \n",
        "\n",
        "\n",
        "Selecor_G1 = GenericUnivariateSelect(score_func = f_regression, \n",
        "                                     mode = 'k_best',            # mode ='percentile' :we can have different modes based on which the selector selects features\n",
        "                                     param = 3 )                 #This selector would use f_regressor to pick top 3 features\n",
        "\n",
        "x_G1 = Selecor_G1.fit_transform(X,Y)\n",
        "#x_G1\n"
      ],
      "execution_count": null,
      "outputs": []
    },
    {
      "cell_type": "code",
      "metadata": {
        "id": "_MEKBqlHMOle",
        "outputId": "d71e5003-870e-4c43-8017-f89a4ee578a6",
        "colab": {
          "base_uri": "https://localhost:8080/"
        }
      },
      "source": [
        "columns = Selecor_G1.get_support(indices=True) #This gives the index number of selected features\n",
        "#Selected_columns = X.columns[columns]\n",
        "Selected_columns = X.columns[columns].tolist()\n",
        "Selected_columns"
      ],
      "execution_count": null,
      "outputs": [
        {
          "output_type": "execute_result",
          "data": {
            "text/plain": [
              "['Hours', 'sHours', 'calories']"
            ]
          },
          "metadata": {},
          "execution_count": 15
        }
      ]
    },
    {
      "cell_type": "code",
      "metadata": {
        "id": "ZtZbx60XMRN6",
        "outputId": "c1f79101-cd65-4d4d-aef9-e1e3aee8d350",
        "colab": {
          "base_uri": "https://localhost:8080/"
        }
      },
      "source": [
        "#Let's see the F-Score and P-Values of the features to verify they are the same as previous part\n",
        "F_Score = Selecor_G1.scores_\n",
        "P_Value = Selecor_G1.pvalues_\n",
        "\n",
        "\n",
        "columns = list(X.columns)\n",
        "\n",
        "i=int(-1)\n",
        "for c in columns:\n",
        " i+=1\n",
        " print(c,':', P_Value[i],',', F_Score[i]) \n",
        " #Based on P-Values shown below, we pick \"Hours\" and \"sHours\" since for them P-Value<0.05 and drop the other features"
      ],
      "execution_count": null,
      "outputs": [
        {
          "output_type": "stream",
          "name": "stdout",
          "text": [
            "Hours : 1.7703846633368096e-12 , 141.90591265093306\n",
            "sHours : 0.04140283437892134 , 4.570197562174471\n",
            "hoursplayed : 0.9699072414603728 , 0.001448820873055793\n",
            "income : 0.6922004770304084 , 0.15999051253393012\n",
            "distance : 0.9555280755289408 , 0.0031660656839195517\n",
            "calories : 0.5300861708497477 , 0.40420892706591777\n"
          ]
        }
      ]
    },
    {
      "cell_type": "markdown",
      "source": [
        "#You Won't have to manually modify the X_test dataset to include only the selected features.\n",
        "\n",
        "#Using RFE method in the next session will do it automatically for you!!"
      ],
      "metadata": {
        "id": "NtDMP_oa-o3y"
      }
    }
  ]
}